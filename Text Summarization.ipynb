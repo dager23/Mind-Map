{
 "cells": [
  {
   "cell_type": "code",
   "execution_count": 2,
   "id": "b032c2e2",
   "metadata": {},
   "outputs": [],
   "source": [
    "import numpy as np\n",
    "from nltk.corpus import stopwords\n",
    "from nltk.tokenize import sent_tokenize, word_tokenize\n",
    "from nltk.cluster.util import cosine_distance\n",
    "import networkx as nx"
   ]
  },
  {
   "cell_type": "code",
   "execution_count": 3,
   "id": "b7978f5f",
   "metadata": {},
   "outputs": [],
   "source": [
    "def read_article(file_name):\n",
    "    file = open(file_name, 'r')\n",
    "    filedata = file.read()\n",
    "    sentences = sent_tokenize(filedata)\n",
    "    word_list = []\n",
    "    for sentence in sentences:\n",
    "        words = word_tokenize(sentence)\n",
    "        word_list.append(words)\n",
    "        \n",
    "    return word_list\n",
    "#     filedata = file.readlines()\n",
    "#     article = filedata[0].split(\". \")\n",
    "#     sentences = []\n",
    "#     for sentence in article:\n",
    "#         sentences.append(sentence.replace(\"[^a-zA-Z]\", \" \").split(\" \"))\n",
    "#     sentences.pop()\n",
    "#     return sentences"
   ]
  },
  {
   "cell_type": "code",
   "execution_count": 4,
   "id": "42262b42",
   "metadata": {},
   "outputs": [],
   "source": [
    "def sentence_similarity(sent1, sent2, stop_words):\n",
    "    sent1 = [w.lower() for w in sent1]\n",
    "    sent2 = [w.lower() for w in sent2]\n",
    "    all_words = list((set(sent1+sent2)))\n",
    "    \n",
    "    vector1 = [0] * len(all_words)\n",
    "    vector2 = [0] * len(all_words)\n",
    "    for w in sent1:\n",
    "        if w not in stop_words:\n",
    "            vector1[all_words.index(w)] += 1\n",
    "    for w in sent2:\n",
    "        if w not in stop_words:\n",
    "            vector2[all_words.index(w)] += 1\n",
    "    \n",
    "    return 1-cosine_distance(vector1, vector2)"
   ]
  },
  {
   "cell_type": "code",
   "execution_count": 5,
   "id": "9d5f3673",
   "metadata": {},
   "outputs": [],
   "source": [
    "def gen_sim_matrix(sentences, stop_words):\n",
    "    similarity_matrix = np.zeros((len(sentences), len(sentences)))\n",
    "    for idx1 in range(len(sentences)):\n",
    "        for idx2 in range(len(sentences)):\n",
    "            if(idx1 == idx2):\n",
    "                continue\n",
    "            similarity_matrix[idx1][idx2] = sentence_similarity(sentences[idx1], sentences[idx2], stop_words)\n",
    "    \n",
    "    return similarity_matrix"
   ]
  },
  {
   "cell_type": "code",
   "execution_count": 6,
   "id": "f055f572",
   "metadata": {},
   "outputs": [],
   "source": [
    "def generate_summary(file_name, top_n=5):\n",
    "    stop_words = stopwords.words('english')\n",
    "    summarized_text = []\n",
    "    sentences = read_article(file_name)\n",
    "    sentence_similarity_matrix = gen_sim_matrix(sentences, stop_words)\n",
    "    sentence_similarity_graph = nx.from_numpy_array(sentence_similarity_matrix)\n",
    "    scores = nx.pagerank(sentence_similarity_graph)\n",
    "    ranked_sentences = sorted(((scores[i], s) for i,s in enumerate(sentences)), reverse=True)\n",
    "    print(ranked_sentences)\n",
    "    for i in range(top_n):\n",
    "        summarized_text.append(\" \".join(ranked_sentences[i][1]))\n",
    "    print(\"Summary: \\n\", \" \".join(summarized_text))"
   ]
  },
  {
   "cell_type": "code",
   "execution_count": 8,
   "id": "f61d7efc",
   "metadata": {},
   "outputs": [
    {
     "name": "stdout",
     "output_type": "stream",
     "text": [
      "[(0.057152823126770294, ['Research', 'in', 'AI', 'has', 'focused', 'chiefly', 'on', 'the', 'following', 'components', 'of', 'intelligence', ':', 'learning', ',', 'reasoning', ',', 'problem', 'solving', ',', 'perception', ',', 'and', 'using', 'language', '.']), (0.05212861292740548, ['Artificial', 'intelligence', 'systems', 'powered', 'by', 'machine', 'learning', 'enable', 'companies', 'to', 'leverage', 'large', 'amounts', 'of', 'available', 'data', 'to', 'uncover', 'insights', 'and', 'patterns', 'that', 'would', 'be', 'impossible', 'for', 'any', 'one', 'person', 'to', 'identify', ',', 'enabling', 'them', 'to', 'deliver', 'more', 'targeted', ',', 'personalized', 'communications', ',', 'predict', 'critical', 'care', 'events', ',', 'identify', 'likely', 'fraudulent', 'transactions', ',', 'and', 'more', '.']), (0.05110615621375527, ['When', 'the', 'female', 'wasp', 'returns', 'to', 'her', 'burrow', 'with', 'food', ',', 'she', 'first', 'deposits', 'it', 'on', 'the', 'threshold', ',', 'checks', 'for', 'intruders', 'inside', 'her', 'burrow', ',', 'and', 'only', 'then', ',', 'if', 'the', 'coast', 'is', 'clear', ',', 'carries', 'her', 'food', 'inside', '.']), (0.0498526522758311, ['The', 'term', 'is', 'frequently', 'applied', 'to', 'the', 'project', 'of', 'developing', 'systems', 'endowed', 'with', 'the', 'intellectual', 'processes', 'characteristic', 'of', 'humans', ',', 'such', 'as', 'the', 'ability', 'to', 'reason', ',', 'discover', 'meaning', ',', 'generalize', ',', 'or', 'learn', 'from', 'past', 'experience', '.']), (0.04980613985866076, ['On', 'the', 'other', 'hand', ',', 'some', 'programs', 'have', 'attained', 'the', 'performance', 'levels', 'of', 'human', 'experts', 'and', 'professionals', 'in', 'performing', 'certain', 'specific', 'tasks', ',', 'so', 'that', 'artificial', 'intelligence', 'in', 'this', 'limited', 'sense', 'is', 'found', 'in', 'applications', 'as', 'diverse', 'as', 'medical', 'diagnosis', ',', 'computer', 'search', 'engines', ',', 'and', 'voice', 'or', 'handwriting', 'recognition', '.']), (0.04686006600441177, ['DataRobot', 'believes', 'in', 'the', 'democratization', 'of', 'AI', ',', 'and', 'for', 'that', 'reason', ',', 'we', 'developed', 'a', 'platform', 'to', 'enable', 'business', 'users', 'across', 'organizations', 'to', 'gain', 'actionable', ',', 'practical', 'insights', 'that', 'result', 'in', 'tangible', 'business', 'value', '.']), (0.044420635948480836, ['Since', 'the', 'development', 'of', 'the', 'digital', 'computer', 'in', 'the', '1940s', ',', 'it', 'has', 'been', 'demonstrated', 'that', 'computers', 'can', 'be', 'programmed', 'to', 'carry', 'out', 'very', 'complex', 'tasksâ€', '”', 'as', ',', 'for', 'example', ',', 'discovering', 'proofs', 'for', 'mathematical', 'theorems', 'or', 'playing', 'chessâ€', '”', 'with', 'great', 'proficiency', '.']), (0.04172461304905397, ['Consider', 'the', 'behaviour', 'of', 'the', 'digger', 'wasp', ',', 'Sphex', 'ichneumoneus', '.']), (0.03975425910493005, ['An', 'example', 'of', 'the', 'former', 'is', ',', 'â€œFred', 'must', 'be', 'in', 'either', 'the', 'museum', 'or', 'the', 'cafÃ©', '.']), (0.037790575277746215, ['artificial', 'intelligence', '(', 'AI', ')', ',', 'the', 'ability', 'of', 'a', 'digital', 'computer', 'or', 'computer-controlled', 'robot', 'to', 'perform', 'tasks', 'commonly', 'associated', 'with', 'intelligent', 'beings', '.']), (0.037677665204498306, ['Still', ',', 'despite', 'continuing', 'advances', 'in', 'computer', 'processing', 'speed', 'and', 'memory', 'capacity', ',', 'there', 'are', 'as', 'yet', 'no', 'programs', 'that', 'can', 'match', 'human', 'flexibility', 'over', 'wider', 'domains', 'or', 'in', 'tasks', 'requiring', 'much', 'everyday', 'knowledge', '.']), (0.037453106274322495, ['DataRobot', 'was', 'founded', 'on', 'the', 'belief', 'that', 'emerging', 'AI', 'and', 'machine', 'learning', 'technologies', 'should', 'be', 'available', 'to', 'all', 'enterprises', ',', 'regardless', 'of', 'size', 'and', 'resources', '.']), (0.03615362304694872, ['All', 'but', 'the', 'simplest', 'human', 'behaviour', 'is', 'ascribed', 'to', 'intelligence', ',', 'while', 'even', 'the', 'most', 'complicated', 'insect', 'behaviour', 'is', 'never', 'taken', 'as', 'an', 'indication', 'of', 'intelligence', '.']), (0.03549628915000048, ['There', 'has', 'been', 'considerable', 'success', 'in', 'programming', 'computers', 'to', 'draw', 'inferences', ',', 'especially', 'deductive', 'inferences', '.']), (0.03515898006728621, ['DataRobot', 'makes', 'the', 'power', 'of', 'AI', 'accessible', 'to', 'users', 'throughout', 'your', 'business', ',', 'helping', 'your', 'organization', 'transform', 'into', 'an', 'AI-driven', 'enterprise', '.']), (0.03375873861653588, ['He', 'is', 'not', 'in', 'the', 'cafÃ©', ';', 'therefore', 'he', 'is', 'in', 'the', 'museum', ',', 'and', 'of', 'the', 'latter', ',', 'Previous', 'accidents', 'of', 'this', 'sort', 'were', 'caused', 'by', 'instrument', 'failure', ';', 'therefore', 'this', 'accident', 'was', 'caused', 'by', 'instrument', 'failure', '.']), (0.03212784844104756, ['Deductive', 'reasoning', 'is', 'common', 'in', 'mathematics', 'and', 'logic', ',', 'where', 'elaborate', 'structures', 'of', 'irrefutable', 'theorems', 'are', 'built', 'up', 'from', 'a', 'small', 'set', 'of', 'basic', 'axioms', 'and', 'rules', '.']), (0.03151288974676873, ['Thatâ€™s', 'why', 'we', 'invented', 'automated', 'machine', 'learning', ',', 'which', 'allows', 'users', 'of', 'all', 'skill', 'levels', 'to', 'easily', 'and', 'rapidly', 'build', 'and', 'deploy', 'machine', 'learning', 'models', '.']), (0.030649724003496463, ['Inductive', 'reasoning', 'is', 'common', 'in', 'science', ',', 'where', 'data', 'are', 'collected', 'and', 'tentative', 'models', 'are', 'developed', 'to', 'describe', 'and', 'predict', 'future', 'behaviourâ€', '”', 'until', 'the', 'appearance', 'of', 'anomalous', 'data', 'forces', 'the', 'model', 'to', 'be', 'revised', '.']), (0.030593147097126586, ['The', 'most', 'significant', 'difference', 'between', 'these', 'forms', 'of', 'reasoning', 'is', 'that', 'in', 'the', 'deductive', 'case', 'the', 'truth', 'of', 'the', 'premises', 'guarantees', 'the', 'truth', 'of', 'the', 'conclusion', ',', 'whereas', 'in', 'the', 'inductive', 'case', 'the', 'truth', 'of', 'the', 'premise', 'lends', 'support', 'to', 'the', 'conclusion', 'without', 'giving', 'absolute', 'assurance', '.']), (0.0298631545114486, ['There', 'are', 'a', 'number', 'of', 'different', 'forms', 'of', 'learning', 'as', 'applied', 'to', 'artificial', 'intelligence', '.']), (0.029390841811870707, ['However', ',', 'true', 'reasoning', 'involves', 'more', 'than', 'just', 'drawing', 'inferences', ';', 'it', 'involves', 'drawing', 'inferences', 'relevant', 'to', 'the', 'solution', 'of', 'the', 'particular', 'task', 'or', 'situation', '.']), (0.028424108509553812, ['The', 'real', 'nature', 'of', 'the', 'waspâ€™s', 'instinctual', 'behaviour', 'is', 'revealed', 'if', 'the', 'food', 'is', 'moved', 'a', 'few', 'inches', 'away', 'from', 'the', 'entrance', 'to', 'her', 'burrow', 'while', 'she', 'is', 'inside', ':', 'on', 'emerging', ',', 'she', 'will', 'repeat', 'the', 'whole', 'procedure', 'as', 'often', 'as', 'the', 'food', 'is', 'displaced', '.']), (0.026804607658552637, ['This', 'is', 'one', 'of', 'the', 'hardest', 'problems', 'confronting', 'AI', '.']), (0.024077458945194617, ['Artificial', 'intelligence', 'systems', 'are', 'critical', 'for', 'companies', 'that', 'wish', 'to', 'extract', 'value', 'from', 'data', 'by', 'automating', 'and', 'optimizing', 'processes', 'or', 'producing', 'actionable', 'insights', '.']), (0.023849348140440475, ['Psychologists', 'generally', 'do', 'not', 'characterize', 'human', 'intelligence', 'by', 'just', 'one', 'trait', 'but', 'by', 'the', 'combination', 'of', 'many', 'diverse', 'abilities', '.']), (0.019991819491884305, ['Intelligenceâ€', '”', 'conspicuously', 'absent', 'in', 'the', 'case', 'of', 'Sphexâ€', '”', 'must', 'include', 'the', 'ability', 'to', 'adapt', 'to', 'new', 'circumstances', '.']), (0.006420115495977777, ['What', 'is', 'the', 'difference', '?'])]\n",
      "Summary: \n",
      " Research in AI has focused chiefly on the following components of intelligence : learning , reasoning , problem solving , perception , and using language . Artificial intelligence systems powered by machine learning enable companies to leverage large amounts of available data to uncover insights and patterns that would be impossible for any one person to identify , enabling them to deliver more targeted , personalized communications , predict critical care events , identify likely fraudulent transactions , and more . When the female wasp returns to her burrow with food , she first deposits it on the threshold , checks for intruders inside her burrow , and only then , if the coast is clear , carries her food inside . The term is frequently applied to the project of developing systems endowed with the intellectual processes characteristic of humans , such as the ability to reason , discover meaning , generalize , or learn from past experience . On the other hand , some programs have attained the performance levels of human experts and professionals in performing certain specific tasks , so that artificial intelligence in this limited sense is found in applications as diverse as medical diagnosis , computer search engines , and voice or handwriting recognition .\n"
     ]
    }
   ],
   "source": [
    "generate_summary(\"SampleData//sample_text.txt\", 5)"
   ]
  },
  {
   "cell_type": "code",
   "execution_count": null,
   "id": "8a6c07b7",
   "metadata": {},
   "outputs": [],
   "source": []
  },
  {
   "cell_type": "code",
   "execution_count": null,
   "id": "189a9fdd",
   "metadata": {},
   "outputs": [],
   "source": []
  }
 ],
 "metadata": {
  "kernelspec": {
   "display_name": "Python 3 (ipykernel)",
   "language": "python",
   "name": "python3"
  },
  "language_info": {
   "codemirror_mode": {
    "name": "ipython",
    "version": 3
   },
   "file_extension": ".py",
   "mimetype": "text/x-python",
   "name": "python",
   "nbconvert_exporter": "python",
   "pygments_lexer": "ipython3",
   "version": "3.9.12"
  }
 },
 "nbformat": 4,
 "nbformat_minor": 5
}
