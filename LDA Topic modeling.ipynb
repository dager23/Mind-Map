{
 "cells": [
  {
   "cell_type": "markdown",
   "id": "023beb86",
   "metadata": {},
   "source": [
    "# LDA Topic modeling\n",
    "\n",
    "LDA stands for Latent Dirichlet allocation, It is a generative statistical model that allows sets of observations to be explained by unobserved groups that explain why some parts of the data are similar. It is an unsupervised learning algorithm that attempts to describe a set of observations as a mixture of distinct categories"
   ]
  },
  {
   "cell_type": "code",
   "execution_count": 81,
   "id": "4d6040db",
   "metadata": {},
   "outputs": [],
   "source": [
    "import numpy as np\n",
    "import json\n",
    "import glob"
   ]
  },
  {
   "cell_type": "code",
   "execution_count": 82,
   "id": "4b7c8911",
   "metadata": {},
   "outputs": [],
   "source": [
    "import gensim\n",
    "import gensim.corpora as corpora\n",
    "from gensim.utils import simple_preprocess\n",
    "from gensim.models import CoherenceModel"
   ]
  },
  {
   "cell_type": "code",
   "execution_count": 83,
   "id": "2b2d324e",
   "metadata": {},
   "outputs": [],
   "source": [
    "import nltk\n",
    "from nltk.corpus import stopwords\n",
    "from nltk.stem import WordNetLemmatizer"
   ]
  },
  {
   "cell_type": "code",
   "execution_count": 84,
   "id": "5b221024",
   "metadata": {},
   "outputs": [],
   "source": [
    "from itertools import chain"
   ]
  },
  {
   "cell_type": "markdown",
   "id": "bf4425b9",
   "metadata": {},
   "source": [
    "## Preparing the data"
   ]
  },
  {
   "cell_type": "code",
   "execution_count": 85,
   "id": "df4daf0b",
   "metadata": {},
   "outputs": [],
   "source": [
    "def load_json_data(file):\n",
    "    with open(file, 'r', encoding='utf-8') as f:\n",
    "        data = json.load(f)\n",
    "    return data\n",
    "\n",
    "def write_json_data(file, data):\n",
    "    with open(file, 'w', encoding='utf-8') as f:\n",
    "        json.dump(data, f, indent=4)"
   ]
  },
  {
   "cell_type": "code",
   "execution_count": 86,
   "id": "3ff510dc",
   "metadata": {},
   "outputs": [],
   "source": [
    "stop_words = stopwords.words('english')"
   ]
  },
  {
   "cell_type": "code",
   "execution_count": 87,
   "id": "6d0474ef",
   "metadata": {},
   "outputs": [],
   "source": [
    "# stop_words"
   ]
  },
  {
   "cell_type": "code",
   "execution_count": 88,
   "id": "2c1052a2",
   "metadata": {},
   "outputs": [],
   "source": [
    "with open('./SampleData/sample_text.txt') as f:\n",
    "    data = f.readlines()"
   ]
  },
  {
   "cell_type": "code",
   "execution_count": 89,
   "id": "81fb71db",
   "metadata": {},
   "outputs": [],
   "source": [
    "sentences = nltk.sent_tokenize(data[0])"
   ]
  },
  {
   "cell_type": "code",
   "execution_count": 90,
   "id": "c76295e1",
   "metadata": {},
   "outputs": [
    {
     "data": {
      "text/plain": [
       "'artificial intelligence (AI), the ability of a digital computer or computer-controlled robot to perform tasks commonly associated with intelligent beings.'"
      ]
     },
     "execution_count": 90,
     "metadata": {},
     "output_type": "execute_result"
    }
   ],
   "source": [
    "sentences[0]"
   ]
  },
  {
   "cell_type": "code",
   "execution_count": 91,
   "id": "1ed39e9d",
   "metadata": {},
   "outputs": [],
   "source": [
    "def lemmatization(texts, stop_words ,allowed_postags=['NN', 'NNS', 'NNP', 'NNPS', 'RB', 'RBR', 'RBS', 'VB', 'VBD', 'VBG', 'VBN', 'VBP', 'VBZ', 'JJ', 'JJR', 'JJS']):\n",
    "    #Default Allowed postags are nouns, adjectives, verbs, adverb\n",
    "    texts_out = []\n",
    "    lemmatizer = WordNetLemmatizer()\n",
    "    for text in texts:\n",
    "        new_text = []\n",
    "        words = nltk.word_tokenize(text)\n",
    "        tagged_words = nltk.pos_tag(words)\n",
    "        for tags in tagged_words:\n",
    "            if((tags[0] not in stop_words) and (tags[1] in allowed_postags)):\n",
    "                new_text.append(lemmatizer.lemmatize(tags[0]))\n",
    "        final_text = \" \".join(new_text)\n",
    "        texts_out.append(final_text)\n",
    "    \n",
    "    return texts_out"
   ]
  },
  {
   "cell_type": "code",
   "execution_count": 92,
   "id": "c4fa3a89",
   "metadata": {},
   "outputs": [],
   "source": [
    "def group_sentences(sentences, group_len = 3):\n",
    "    new_sentences = []\n",
    "    for idx in range(0, len(sentences), group_len):\n",
    "        new_sent = ''\n",
    "        i = idx\n",
    "        while i<len(sentences) and i<idx+3:\n",
    "            new_sent += sentences[i]\n",
    "            i += 1\n",
    "        new_sentences.append(new_sent)\n",
    "    return new_sentences"
   ]
  },
  {
   "cell_type": "code",
   "execution_count": 93,
   "id": "7a4646ee",
   "metadata": {},
   "outputs": [],
   "source": [
    "bigger_sentences = group_sentences(sentences)"
   ]
  },
  {
   "cell_type": "code",
   "execution_count": 94,
   "id": "ac7c5fc2",
   "metadata": {},
   "outputs": [
    {
     "data": {
      "text/plain": [
       "'artificial intelligence (AI), the ability of a digital computer or computer-controlled robot to perform tasks commonly associated with intelligent beings.The term is frequently applied to the project of developing systems endowed with the intellectual processes characteristic of humans, such as the ability to reason, discover meaning, generalize, or learn from past experience.Since the development of the digital computer in the 1940s, it has been demonstrated that computers can be programmed to carry out very complex tasksâ€”as, for example, discovering proofs for mathematical theorems or playing chessâ€”with great proficiency.'"
      ]
     },
     "execution_count": 94,
     "metadata": {},
     "output_type": "execute_result"
    }
   ],
   "source": [
    "bigger_sentences[0]"
   ]
  },
  {
   "cell_type": "code",
   "execution_count": 95,
   "id": "0a5bc628",
   "metadata": {},
   "outputs": [],
   "source": [
    "lemmatized_text = lemmatization(sentences, stop_words)"
   ]
  },
  {
   "cell_type": "code",
   "execution_count": 96,
   "id": "f037fd2a",
   "metadata": {},
   "outputs": [
    {
     "data": {
      "text/plain": [
       "'artificial intelligence AI ability digital computer computer-controlled robot perform task commonly associated intelligent being'"
      ]
     },
     "execution_count": 96,
     "metadata": {},
     "output_type": "execute_result"
    }
   ],
   "source": [
    "lemmatized_text[0]"
   ]
  },
  {
   "cell_type": "code",
   "execution_count": 97,
   "id": "e67d43b0",
   "metadata": {},
   "outputs": [],
   "source": [
    "def gen_words(texts):\n",
    "    final = []\n",
    "    for text in texts:\n",
    "        new = gensim.utils.simple_preprocess(text, deacc=True) #Deacc is used to remove accents\n",
    "        final.append(new)\n",
    "    return final"
   ]
  },
  {
   "cell_type": "code",
   "execution_count": 98,
   "id": "fa8a64a5",
   "metadata": {
    "scrolled": true
   },
   "outputs": [
    {
     "name": "stdout",
     "output_type": "stream",
     "text": [
      "['artificial', 'intelligence', 'ai', 'ability', 'digital', 'computer', 'computer', 'controlled', 'robot', 'perform', 'task', 'commonly', 'associated', 'intelligent', 'being']\n"
     ]
    }
   ],
   "source": [
    "data_words = gen_words(lemmatized_text)\n",
    "print(data_words[0])"
   ]
  },
  {
   "cell_type": "code",
   "execution_count": 99,
   "id": "868357bd",
   "metadata": {},
   "outputs": [],
   "source": [
    "id2word = corpora.Dictionary(data_words)\n",
    "\n",
    "corpus = []\n",
    "for text in data_words:\n",
    "    new = id2word.doc2bow(text)\n",
    "    corpus.append(new)"
   ]
  },
  {
   "cell_type": "code",
   "execution_count": 100,
   "id": "6cb2ea09",
   "metadata": {},
   "outputs": [
    {
     "name": "stdout",
     "output_type": "stream",
     "text": [
      "[(0, 1), (1, 1), (2, 1), (3, 1), (4, 1), (5, 1), (6, 2), (7, 1), (8, 1), (9, 1), (10, 1), (11, 1), (12, 1), (13, 1)]\n",
      "ability\n"
     ]
    }
   ],
   "source": [
    "print(corpus[0])\n",
    "print(id2word[[0][:1][0]]) #Return first word --> 0 index has word ability"
   ]
  },
  {
   "cell_type": "markdown",
   "id": "5e782353",
   "metadata": {},
   "source": [
    "## Improving the data by NLP More NLP methods"
   ]
  },
  {
   "cell_type": "markdown",
   "id": "eabe303b",
   "metadata": {},
   "source": [
    "Bigrams and Trigrams"
   ]
  },
  {
   "cell_type": "code",
   "execution_count": 101,
   "id": "c9af3b0c",
   "metadata": {},
   "outputs": [],
   "source": [
    "bigram_phrases = gensim.models.Phrases(data_words, min_count=3, threshold=25)\n",
    "trigram_phrases = gensim.models.Phrases(bigram_phrases[data_words], threshold=25)\n",
    "\n",
    "bigram = gensim.models.phrases.Phraser(bigram_phrases)\n",
    "trigram = gensim.models.phrases.Phraser(trigram_phrases)\n",
    "\n",
    "# min count is number of times the word must occur to be considered as a bigram\n",
    "# Threshold is represent a score threshold for forming the phrases , Higher number means fewer phrases"
   ]
  },
  {
   "cell_type": "code",
   "execution_count": 102,
   "id": "190c1418",
   "metadata": {},
   "outputs": [],
   "source": [
    "def make_bigrams(texts):\n",
    "    return [bigram[doc] for doc in texts]\n",
    "\n",
    "def make_trigrams(texts):\n",
    "    return [trigram[bigram[doc]] for doc in texts]"
   ]
  },
  {
   "cell_type": "code",
   "execution_count": 103,
   "id": "6d6cbdad",
   "metadata": {},
   "outputs": [],
   "source": [
    "data_bigrams = make_bigrams(data_words)\n",
    "data_bigrams_trigrams = make_trigrams(data_bigrams)"
   ]
  },
  {
   "cell_type": "code",
   "execution_count": 104,
   "id": "93ea5d21",
   "metadata": {},
   "outputs": [
    {
     "name": "stdout",
     "output_type": "stream",
     "text": [
      "['artificial_intelligence', 'ai', 'ability', 'digital', 'computer', 'computer', 'controlled', 'robot', 'perform', 'task', 'commonly', 'associated', 'intelligent', 'being']\n"
     ]
    }
   ],
   "source": [
    "print(data_bigrams_trigrams[0])"
   ]
  },
  {
   "cell_type": "markdown",
   "id": "5759b9a5",
   "metadata": {},
   "source": [
    "TF-IDF removal"
   ]
  },
  {
   "cell_type": "code",
   "execution_count": 105,
   "id": "be8e95cb",
   "metadata": {},
   "outputs": [],
   "source": [
    "from gensim.models import TfidfModel"
   ]
  },
  {
   "cell_type": "code",
   "execution_count": 106,
   "id": "e3e51ec8",
   "metadata": {},
   "outputs": [
    {
     "name": "stdout",
     "output_type": "stream",
     "text": [
      "[(0, 1), (1, 1), (2, 1), (3, 1), (4, 1), (5, 1), (6, 2), (7, 1), (8, 1), (9, 1), (10, 1), (11, 1), (12, 1)]\n"
     ]
    }
   ],
   "source": [
    "id2word = corpora.Dictionary(data_bigrams_trigrams)\n",
    "texts = data_bigrams_trigrams\n",
    "corpus = [id2word.doc2bow(text) for text in texts]  # bow - bag of words\n",
    "print(corpus[0])"
   ]
  },
  {
   "cell_type": "code",
   "execution_count": 107,
   "id": "687b0369",
   "metadata": {},
   "outputs": [],
   "source": [
    "tfidf = TfidfModel(corpus=corpus, id2word=id2word)\n",
    "low_value = 0.03\n",
    "words = []\n",
    "words_missing_in_tfid = []\n",
    "for i in range(0, len(corpus)):\n",
    "    bow = corpus[i]\n",
    "    low_value_words = []\n",
    "    tfidf_ids = [id for id, value in tfidf[bow]]\n",
    "    bow_ids = [id for id, value in bow]\n",
    "    low_value_words = [id for id, value in tfidf[bow] if value < low_value]\n",
    "    drops = low_value_words + words_missing_in_tfid\n",
    "    for item in drops:\n",
    "        words.append(id2word[item])\n",
    "    words_missing_in_tfidf = [id for id in bow_ids if id not in tfidf_ids] # The words with tf-idf score 0 will be missing\n",
    "\n",
    "    new_bow = [b for b in bow if b[0] not in low_value_words and b[0] not in words_missing_in_tfidf]     \n",
    "    corpus[i] = new_bow"
   ]
  },
  {
   "cell_type": "markdown",
   "id": "c9396f80",
   "metadata": {},
   "source": [
    "## Modeling LDA Model"
   ]
  },
  {
   "cell_type": "code",
   "execution_count": 108,
   "id": "0fefa236",
   "metadata": {},
   "outputs": [],
   "source": [
    "lda_model = gensim.models.ldamodel.LdaModel(corpus=corpus,\n",
    "                                           id2word=id2word,\n",
    "                                           num_topics=10,\n",
    "                                           random_state=42,\n",
    "                                           update_every=1,\n",
    "                                           chunksize=100,\n",
    "                                           passes=10,\n",
    "                                           alpha='auto')"
   ]
  },
  {
   "cell_type": "code",
   "execution_count": 109,
   "id": "2009e28c",
   "metadata": {},
   "outputs": [
    {
     "data": {
      "text/plain": [
       "[(0,\n",
       "  '0.044*\"model\" + 0.030*\"machine_learning\" + 0.030*\"data\" + 0.016*\"predict\" + 0.016*\"common\" + 0.016*\"future\" + 0.016*\"inductive\" + 0.016*\"collected\" + 0.016*\"anomalous\" + 0.016*\"behavioura\"'),\n",
       " (1,\n",
       "  '0.027*\"truth\" + 0.018*\"conclusion\" + 0.018*\"case\" + 0.018*\"premise\" + 0.018*\"deductive\" + 0.018*\"inference\" + 0.018*\"computer\" + 0.018*\"artificial_intelligence\" + 0.018*\"identify\" + 0.010*\"difference\"'),\n",
       " (2,\n",
       "  '0.048*\"burrow\" + 0.048*\"food\" + 0.025*\"deposit\" + 0.025*\"return\" + 0.025*\"coast\" + 0.025*\"inside\" + 0.025*\"clear\" + 0.025*\"wasp\" + 0.025*\"first\" + 0.025*\"check\"'),\n",
       " (3,\n",
       "  '0.029*\"intelligence\" + 0.029*\"characterize\" + 0.029*\"trait\" + 0.029*\"generally\" + 0.029*\"combination\" + 0.029*\"ability\" + 0.029*\"many\" + 0.029*\"diverse\" + 0.029*\"human\" + 0.029*\"psychologists\"'),\n",
       " (4,\n",
       "  '0.046*\"ai\" + 0.046*\"problem\" + 0.024*\"solving\" + 0.024*\"following\" + 0.024*\"reasoning\" + 0.024*\"research\" + 0.024*\"learning\" + 0.024*\"intelligence\" + 0.024*\"component\" + 0.024*\"using\"'),\n",
       " (5,\n",
       "  '0.029*\"artificial_intelligence\" + 0.029*\"computer\" + 0.020*\"food\" + 0.020*\"task\" + 0.010*\"behaviour\" + 0.010*\"displaced\" + 0.010*\"often\" + 0.010*\"inch\" + 0.010*\"entrance\" + 0.010*\"system\"'),\n",
       " (6,\n",
       "  '0.027*\"regardless\" + 0.027*\"ai\" + 0.027*\"datarobot\" + 0.027*\"belief\" + 0.027*\"resource\" + 0.027*\"size\" + 0.027*\"technology\" + 0.027*\"enterprise\" + 0.027*\"emerging\" + 0.027*\"available\"'),\n",
       " (7,\n",
       "  '0.024*\"human\" + 0.024*\"accident\" + 0.024*\"instrument\" + 0.024*\"intelligence\" + 0.024*\"inference\" + 0.024*\"involves\" + 0.024*\"drawing\" + 0.024*\"failure\" + 0.024*\"behaviour\" + 0.024*\"caused\"'),\n",
       " (8,\n",
       "  '0.035*\"computer\" + 0.035*\"theorem\" + 0.018*\"digital\" + 0.018*\"playing\" + 0.018*\"demonstrated\" + 0.018*\"proficiency\" + 0.018*\"discovering\" + 0.018*\"small\" + 0.018*\"example\" + 0.018*\"rule\"'),\n",
       " (9,\n",
       "  '0.033*\"ichneumoneus\" + 0.033*\"digger\" + 0.033*\"sphex\" + 0.033*\"behaviour\" + 0.033*\"consider\" + 0.033*\"wasp\" + 0.003*\"difference\" + 0.003*\"inference\" + 0.003*\"ai\" + 0.003*\"intelligence\"')]"
      ]
     },
     "execution_count": 109,
     "metadata": {},
     "output_type": "execute_result"
    }
   ],
   "source": [
    "lda_model.print_topics()"
   ]
  },
  {
   "cell_type": "markdown",
   "id": "e21177ec",
   "metadata": {},
   "source": [
    "## Vizualizing the data"
   ]
  },
  {
   "cell_type": "code",
   "execution_count": 110,
   "id": "ab28d9a1",
   "metadata": {},
   "outputs": [],
   "source": [
    "import pyLDAvis.gensim_models as gensimvis\n",
    "import pyLDAvis"
   ]
  },
  {
   "cell_type": "code",
   "execution_count": 111,
   "id": "d8ea5090",
   "metadata": {},
   "outputs": [
    {
     "name": "stderr",
     "output_type": "stream",
     "text": [
      "C:\\Users\\Acer\\anaconda3\\lib\\site-packages\\pyLDAvis\\_prepare.py:246: FutureWarning: In a future version of pandas all arguments of DataFrame.drop except for the argument 'labels' will be keyword-only.\n",
      "  default_term_info = default_term_info.sort_values(\n"
     ]
    },
    {
     "data": {
      "text/html": [
       "\n",
       "<link rel=\"stylesheet\" type=\"text/css\" href=\"https://cdn.jsdelivr.net/gh/bmabey/pyLDAvis@3.3.1/pyLDAvis/js/ldavis.v1.0.0.css\">\n",
       "\n",
       "\n",
       "<div id=\"ldavis_el1862023540005286564595266366\"></div>\n",
       "<script type=\"text/javascript\">\n",
       "\n",
       "var ldavis_el1862023540005286564595266366_data = {\"mdsDat\": {\"x\": [-0.15541916919234364, -0.010159575441030109, -0.17952221004442823, 0.07111300381206075, 0.18559087398027108, 0.08998568936245642, 0.05300141461144155, -0.004381227037179097, -0.05230478549474136, 0.0020959854434926236], \"y\": [-0.13834606524568177, 0.20149592400837563, 0.09759606314992975, -0.18435277962769592, -0.021041123586415873, 0.01668656720548706, 0.09271324890784902, -0.07102044599783788, 0.0020985130127799513, 0.004170098173209939], \"topics\": [1, 2, 3, 4, 5, 6, 7, 8, 9, 10], \"cluster\": [1, 1, 1, 1, 1, 1, 1, 1, 1, 1], \"Freq\": [23.713149739573474, 21.38618776317428, 16.32369936444426, 11.741826277705588, 9.087270328239093, 4.980205709533831, 4.505593617496893, 3.629248163909921, 2.8630153517460144, 1.769803684176647]}, \"tinfo\": {\"Term\": [\"food\", \"behaviour\", \"ai\", \"intelligence\", \"burrow\", \"machine_learning\", \"model\", \"human\", \"ability\", \"computer\", \"problem\", \"diverse\", \"wasp\", \"theorem\", \"difference\", \"truth\", \"conclusion\", \"premise\", \"identify\", \"guarantee\", \"support\", \"whereas\", \"significant\", \"lends\", \"assurance\", \"absolute\", \"giving\", \"especially\", \"success\", \"draw\", \"deductive\", \"case\", \"inference\", \"artificial_intelligence\", \"computer\", \"difference\", \"reasoning\", \"form\", \"often\", \"displaced\", \"inch\", \"entrance\", \"nature\", \"instinctual\", \"repeat\", \"procedure\", \"moved\", \"away\", \"whole\", \"waspa\", \"optimizing\", \"value\", \"automating\", \"artificial_intelligence\", \"food\", \"computer\", \"task\", \"behaviour\", \"system\", \"inside\", \"emerging\", \"accident\", \"instrument\", \"involves\", \"failure\", \"drawing\", \"caused\", \"project\", \"discover\", \"endowed\", \"term\", \"developing\", \"frequently\", \"characteristic\", \"generalize\", \"intellectual\", \"intelligence\", \"behaviour\", \"inference\", \"human\", \"task\", \"reasoning\", \"applied\", \"model\", \"future\", \"collected\", \"tentative\", \"anomalous\", \"behavioura\", \"describe\", \"appearance\", \"developed\", \"revised\", \"force\", \"science\", \"new\", \"circumstance\", \"absent\", \"machine_learning\", \"data\", \"predict\", \"inductive\", \"common\", \"case\", \"theorem\", \"playing\", \"demonstrated\", \"proficiency\", \"mathematical\", \"programmed\", \"discovering\", \"proof\", \"tasksa\", \"basic\", \"logic\", \"mathematics\", \"rule\", \"set\", \"structure\", \"computer\", \"digital\", \"development\", \"example\", \"common\", \"problem\", \"following\", \"solving\", \"component\", \"research\", \"using\", \"perception\", \"focused\", \"chiefly\", \"language\", \"hardest\", \"confronting\", \"ai\", \"learning\", \"intelligence\", \"reasoning\", \"clear\", \"deposit\", \"coast\", \"return\", \"check\", \"intruder\", \"first\", \"female\", \"threshold\", \"burrow\", \"wasp\", \"carry\", \"food\", \"inside\", \"ichneumoneus\", \"difference\", \"regardless\", \"datarobot\", \"belief\", \"resource\", \"size\", \"enterprise\", \"technology\", \"founded\", \"emerging\", \"available\", \"difference\", \"ai\", \"machine_learning\", \"consider\", \"digger\", \"computer\", \"ability\", \"trait\", \"combination\", \"characterize\", \"generally\", \"many\", \"psychologists\", \"diverse\", \"intelligence\", \"ability\", \"human\", \"consider\", \"sphex\", \"digger\", \"ichneumoneus\", \"founded\", \"difference\", \"computer\", \"inference\", \"problem\", \"ai\", \"digger\", \"sphex\", \"ichneumoneus\", \"consider\", \"wasp\", \"behaviour\", \"psychologists\", \"generally\", \"trait\", \"many\", \"characterize\", \"combination\", \"enterprise\", \"technology\", \"founded\", \"difference\", \"inference\", \"ai\", \"artificial_intelligence\", \"intelligence\", \"problem\", \"computer\", \"example\", \"deductive\"], \"Freq\": [2.0, 2.0, 2.0, 2.0, 1.0, 2.0, 2.0, 3.0, 2.0, 5.0, 1.0, 1.0, 1.0, 1.0, 1.0, 2.3469787175848187, 1.5898843101975921, 1.589884148980071, 1.587382536703636, 0.8327872427212658, 0.8327872427212658, 0.8327872427212658, 0.8327872427212658, 0.8327872427212658, 0.8327872427212658, 0.8327871621125053, 0.8327871621125053, 0.832786597851181, 0.8327865172424205, 0.8327865172424205, 1.5898836653275075, 1.589884148980071, 1.5898830204574226, 1.5878420066390513, 1.5891780162372222, 0.8327876457650688, 0.8327873233300265, 0.8327872427212658, 0.8077213132227461, 0.8077213132227461, 0.8077213132227461, 0.8077213132227461, 0.8077212405240912, 0.8077212405240912, 0.8077212405240912, 0.8077212405240912, 0.8077212405240912, 0.8077212405240912, 0.8077211678254363, 0.8077211678254363, 0.8077211678254363, 0.8077211678254363, 0.8077211678254363, 2.2749521741405863, 1.5420291983695975, 2.271359988204623, 1.5387526699932135, 0.8077215313187108, 0.8077213132227461, 0.8077212405240912, 0.8077212405240912, 1.4304590524354304, 1.4304590524354304, 1.4304588304770338, 1.4304588304770338, 1.4304588304770338, 1.4304587194978355, 0.7492818285417758, 0.7492818285417758, 0.7492818285417758, 0.7492818285417758, 0.7492818285417758, 0.7492817730521766, 0.7492817730521766, 0.7492817730521766, 0.7492817730521766, 1.4304590524354304, 1.4304588304770338, 1.4304590524354304, 1.43315007603689, 0.7513464300581792, 0.7492819395209741, 0.7492818285417758, 1.8857984623838602, 0.6691925426031233, 0.6691924627744988, 0.6691924627744988, 0.6691924627744988, 0.6691924627744988, 0.6691924627744988, 0.6691924228601865, 0.6691924228601865, 0.6691924228601865, 0.669192343031562, 0.669192343031562, 0.6691922632029376, 0.669192183374313, 0.669192183374313, 1.2786102094491838, 1.2784781729042218, 0.6704454927793343, 0.6691925426031233, 0.6691925426031233, 0.6691924228601865, 1.1526847443228305, 0.6037839196665352, 0.6037838578853204, 0.6037838578853204, 0.6037837961041057, 0.6037837961041057, 0.6037837961041057, 0.6037837961041057, 0.6037837961041057, 0.6037837961041057, 0.6037837961041057, 0.6037837961041057, 0.6037837961041057, 0.6037837961041057, 0.6037837961041057, 1.1547850584999284, 0.6048550205868889, 0.6037837961041057, 0.6037837961041057, 0.6037837961041057, 0.8403518024678055, 0.44018266838873377, 0.44018266838873377, 0.4401826006713341, 0.4401826006713341, 0.44018256681263424, 0.44018256681263424, 0.44018249909523455, 0.4401824652365347, 0.4401824652365347, 0.4401822620843356, 0.440182160508236, 0.8403522764896034, 0.4401826006713341, 0.4401826006713341, 0.4401826006713341, 0.41681717032782, 0.41681717032782, 0.41681717032782, 0.41681717032782, 0.41681710906386793, 0.41681710906386793, 0.41681710906386793, 0.41681701716793984, 0.41681701716793984, 0.7957450981222223, 0.41681717032782, 0.41681710906386793, 0.7957450368582702, 0.41681717032782, 0.037892788184643825, 0.03789291837054197, 0.36067728773473084, 0.36067728773473084, 0.3606772383867194, 0.3606772383867194, 0.3606772383867194, 0.3606772137127136, 0.3606772137127136, 0.36067716436470215, 0.3606772137127136, 0.3606772137127136, 0.36067442555006496, 0.36067728773473084, 0.36067716436470215, 0.03278910425774055, 0.03278910117348983, 0.03278911967899414, 0.03278911659474342, 0.30735154701029954, 0.30735154701029954, 0.30735154701029954, 0.30735154701029954, 0.307351508080993, 0.3073514886163397, 0.3073514886163397, 0.30735154701029954, 0.30735154701029954, 0.3073514886163397, 0.027941264060584513, 0.02794125919442119, 0.02794125676133953, 0.02794125676133953, 0.02794125676133953, 0.027941339486116025, 0.027941278659074486, 0.027941278659074486, 0.027941276225992823, 0.02794127379291116, 0.21274616640911614, 0.21274616640911614, 0.21274616640911614, 0.21274611827997833, 0.21274611827997833, 0.21274614234454725, 0.01934069854372663, 0.019340697039691074, 0.019340695535655518, 0.019340695535655518, 0.019340695535655518, 0.019340694031619962, 0.019340697039691074, 0.019340697039691074, 0.019340695535655518, 0.019340739152686665, 0.019340712080046642, 0.019340709071975527, 0.019340709071975527, 0.019340709071975527, 0.019340709071975527, 0.01934070756793997, 0.019340706063904416, 0.019340706063904416], \"Total\": [2.0, 2.0, 2.0, 2.0, 1.0, 2.0, 2.0, 3.0, 2.0, 5.0, 1.0, 1.0, 1.0, 1.0, 1.0, 2.762234141493598, 2.005139684726666, 2.005139532673426, 2.004647934853957, 1.248042585252859, 1.2480425883277328, 1.2480425952014458, 1.2480425952733094, 1.248042595978521, 1.248042601766634, 1.2480425188968864, 1.248042532326411, 1.2480420012333104, 1.2480419327867558, 1.2480419345860119, 2.5540325822071432, 2.6134955820810446, 3.367480122616091, 4.2070893546609955, 5.304639578615574, 1.575929520539228, 3.486622425547312, 1.9823325329803017, 1.2252555248591852, 1.2252555321270149, 1.2252555321757734, 1.2252555348796357, 1.2252554625082948, 1.2252554628793064, 1.2252554628793064, 1.2252554640953959, 1.225255464413333, 1.2252554767679689, 1.2252553971331142, 1.225255404069314, 1.225255404069314, 1.225255404069314, 1.2252554091073615, 4.2070893546609955, 2.7174158460996742, 5.304639578615574, 3.397091758196179, 2.781002724316096, 2.6631806351446152, 1.604179927358067, 1.553143661131699, 1.8533063478534582, 1.8533063527173206, 1.8533061331308316, 1.8533061382924596, 1.8533061458716176, 1.8533060615385786, 1.17212902297148, 1.1721290272038176, 1.1721290360544325, 1.1721290375138478, 1.1721290440559309, 1.1721289901465468, 1.1721289916505824, 1.1721289916505824, 1.1721289916505824, 2.5328824709469093, 2.781002724316096, 3.367480122616091, 3.62361610858469, 3.397091758196179, 3.486622425547312, 1.9064189199654005, 2.3160385300995454, 1.0993208694096523, 1.0993208048991143, 1.0993208068259015, 1.0993208076029768, 1.0993208098815173, 1.0993208128089806, 1.0993207711439266, 1.0993207711439266, 1.0993207711439266, 1.0993206897444636, 1.0993206990379538, 1.0993206275819924, 1.099320566097814, 1.099320568793787, 2.7923345188082953, 3.198829615650351, 1.8560922244037084, 1.8563985816241102, 1.6482146920979734, 2.6134955820810446, 1.5887595620349222, 1.0398586698412207, 1.0398586172857704, 1.0398586218740569, 1.0398585435749288, 1.039858554356469, 1.039858557487876, 1.039858560092842, 1.039858560092842, 1.039858560092842, 1.039858560092842, 1.039858560092842, 1.039858560092842, 1.039858560092842, 1.039858560092842, 5.304639578615574, 1.7737871329469714, 1.0398585625259236, 1.7741481145651778, 1.6482146920979734, 1.291300389667563, 0.8911307078373497, 0.8911307614791699, 0.8911307119312935, 0.8911307331340099, 0.8911307212782269, 0.8911307366178892, 0.8911307263209334, 0.8911306753088014, 0.8911307130903143, 0.8911303068515367, 0.8911302642820618, 2.353115926652355, 1.625420629945652, 2.5328824709469093, 3.486622425547312, 0.8698891856467811, 0.8698891937244589, 0.8698891952284945, 0.8698891952284945, 0.8698891339645425, 0.8698891339645425, 0.8698891508097698, 0.8698890665838879, 0.8698890752355858, 1.9831078166388283, 1.063294813132119, 1.4187829159166456, 2.7174158460996742, 1.604179927358067, 0.6843703995144713, 1.575929520539228, 0.8188529912583621, 0.8188529935833235, 0.8188529497189827, 0.8188529512038409, 0.8188529615667102, 0.8188529492106953, 0.8188529875361004, 0.818852929308009, 1.553143661131699, 1.5756481614963316, 1.575929520539228, 2.353115926652355, 2.7923345188082953, 0.6843703787416701, 0.6843703910567875, 5.304639578615574, 2.7938902707780096, 0.770375111081245, 0.7703751161423978, 0.7703751171520518, 0.7703751263464101, 0.7703751143792089, 0.7703750959393295, 1.5271942288826854, 2.5328824709469093, 2.7938902707780096, 3.62361610858469, 0.6843703787416701, 0.6843703949695751, 0.6843703910567875, 0.6843703995144713, 0.818852929308009, 1.575929520539228, 5.304639578615574, 3.367480122616091, 1.291300389667563, 2.353115926652355, 0.6843703910567875, 0.6843703949695751, 0.6843703995144713, 0.6843703787416701, 1.063294813132119, 2.781002724316096, 0.7703750959393295, 0.7703751263464101, 0.770375111081245, 0.7703751143792089, 0.7703751171520518, 0.7703751161423978, 0.8188529492106953, 0.8188529875361004, 0.818852929308009, 1.575929520539228, 3.367480122616091, 2.353115926652355, 4.2070893546609955, 2.5328824709469093, 1.291300389667563, 5.304639578615574, 1.7741481145651778, 2.5540325822071432], \"Category\": [\"Default\", \"Default\", \"Default\", \"Default\", \"Default\", \"Default\", \"Default\", \"Default\", \"Default\", \"Default\", \"Default\", \"Default\", \"Default\", \"Default\", \"Default\", \"Topic1\", \"Topic1\", \"Topic1\", \"Topic1\", \"Topic1\", \"Topic1\", \"Topic1\", \"Topic1\", \"Topic1\", \"Topic1\", \"Topic1\", \"Topic1\", \"Topic1\", \"Topic1\", \"Topic1\", \"Topic1\", \"Topic1\", \"Topic1\", \"Topic1\", \"Topic1\", \"Topic1\", \"Topic1\", \"Topic1\", \"Topic2\", \"Topic2\", \"Topic2\", \"Topic2\", \"Topic2\", \"Topic2\", \"Topic2\", \"Topic2\", \"Topic2\", \"Topic2\", \"Topic2\", \"Topic2\", \"Topic2\", \"Topic2\", \"Topic2\", \"Topic2\", \"Topic2\", \"Topic2\", \"Topic2\", \"Topic2\", \"Topic2\", \"Topic2\", \"Topic2\", \"Topic3\", \"Topic3\", \"Topic3\", \"Topic3\", \"Topic3\", \"Topic3\", \"Topic3\", \"Topic3\", \"Topic3\", \"Topic3\", \"Topic3\", \"Topic3\", \"Topic3\", \"Topic3\", \"Topic3\", \"Topic3\", \"Topic3\", \"Topic3\", \"Topic3\", \"Topic3\", \"Topic3\", \"Topic3\", \"Topic4\", \"Topic4\", \"Topic4\", \"Topic4\", \"Topic4\", \"Topic4\", \"Topic4\", \"Topic4\", \"Topic4\", \"Topic4\", \"Topic4\", \"Topic4\", \"Topic4\", \"Topic4\", \"Topic4\", \"Topic4\", \"Topic4\", \"Topic4\", \"Topic4\", \"Topic4\", \"Topic4\", \"Topic5\", \"Topic5\", \"Topic5\", \"Topic5\", \"Topic5\", \"Topic5\", \"Topic5\", \"Topic5\", \"Topic5\", \"Topic5\", \"Topic5\", \"Topic5\", \"Topic5\", \"Topic5\", \"Topic5\", \"Topic5\", \"Topic5\", \"Topic5\", \"Topic5\", \"Topic5\", \"Topic6\", \"Topic6\", \"Topic6\", \"Topic6\", \"Topic6\", \"Topic6\", \"Topic6\", \"Topic6\", \"Topic6\", \"Topic6\", \"Topic6\", \"Topic6\", \"Topic6\", \"Topic6\", \"Topic6\", \"Topic6\", \"Topic7\", \"Topic7\", \"Topic7\", \"Topic7\", \"Topic7\", \"Topic7\", \"Topic7\", \"Topic7\", \"Topic7\", \"Topic7\", \"Topic7\", \"Topic7\", \"Topic7\", \"Topic7\", \"Topic7\", \"Topic7\", \"Topic8\", \"Topic8\", \"Topic8\", \"Topic8\", \"Topic8\", \"Topic8\", \"Topic8\", \"Topic8\", \"Topic8\", \"Topic8\", \"Topic8\", \"Topic8\", \"Topic8\", \"Topic8\", \"Topic8\", \"Topic8\", \"Topic8\", \"Topic9\", \"Topic9\", \"Topic9\", \"Topic9\", \"Topic9\", \"Topic9\", \"Topic9\", \"Topic9\", \"Topic9\", \"Topic9\", \"Topic9\", \"Topic9\", \"Topic9\", \"Topic9\", \"Topic9\", \"Topic9\", \"Topic9\", \"Topic9\", \"Topic9\", \"Topic9\", \"Topic10\", \"Topic10\", \"Topic10\", \"Topic10\", \"Topic10\", \"Topic10\", \"Topic10\", \"Topic10\", \"Topic10\", \"Topic10\", \"Topic10\", \"Topic10\", \"Topic10\", \"Topic10\", \"Topic10\", \"Topic10\", \"Topic10\", \"Topic10\", \"Topic10\", \"Topic10\", \"Topic10\", \"Topic10\", \"Topic10\", \"Topic10\"], \"logprob\": [15.0, 14.0, 13.0, 12.0, 11.0, 10.0, 9.0, 8.0, 7.0, 6.0, 5.0, 4.0, 3.0, 2.0, 1.0, -3.6076, -3.9971, -3.9971, -3.9987, -4.6437, -4.6437, -4.6437, -4.6437, -4.6437, -4.6437, -4.6437, -4.6437, -4.6437, -4.6437, -4.6437, -3.9971, -3.9971, -3.9971, -3.9984, -3.9975, -4.6437, -4.6437, -4.6437, -4.571, -4.571, -4.571, -4.571, -4.571, -4.571, -4.571, -4.571, -4.571, -4.571, -4.571, -4.571, -4.571, -4.571, -4.571, -3.5355, -3.9244, -3.5371, -3.9265, -4.571, -4.571, -4.571, -4.571, -3.7293, -3.7293, -3.7293, -3.7293, -3.7293, -3.7294, -4.376, -4.376, -4.376, -4.376, -4.376, -4.376, -4.376, -4.376, -4.376, -3.7293, -3.7293, -3.7293, -3.7275, -4.3732, -4.376, -4.376, -3.1235, -4.1596, -4.1596, -4.1596, -4.1596, -4.1596, -4.1596, -4.1596, -4.1596, -4.1596, -4.1596, -4.1596, -4.1596, -4.1596, -4.1596, -3.5121, -3.5122, -4.1577, -4.1596, -4.1596, -4.1596, -3.3595, -4.0061, -4.0061, -4.0061, -4.0061, -4.0061, -4.0061, -4.0061, -4.0061, -4.0061, -4.0061, -4.0061, -4.0061, -4.0061, -4.0061, -3.3577, -4.0044, -4.0061, -4.0061, -4.0061, -3.0741, -3.7208, -3.7208, -3.7208, -3.7208, -3.7208, -3.7208, -3.7208, -3.7208, -3.7208, -3.7208, -3.7208, -3.0741, -3.7208, -3.7208, -3.7208, -3.6752, -3.6752, -3.6752, -3.6752, -3.6752, -3.6752, -3.6752, -3.6752, -3.6752, -3.0285, -3.6752, -3.6752, -3.0285, -3.6752, -6.073, -6.073, -3.6035, -3.6035, -3.6035, -3.6035, -3.6035, -3.6035, -3.6035, -3.6035, -3.6035, -3.6035, -3.6035, -3.6035, -3.6035, -6.0014, -6.0014, -6.0014, -6.0014, -3.5264, -3.5264, -3.5264, -3.5264, -3.5264, -3.5264, -3.5264, -3.5264, -3.5264, -3.5264, -5.9243, -5.9243, -5.9243, -5.9243, -5.9243, -5.9243, -5.9243, -5.9243, -5.9243, -5.9243, -3.4133, -3.4133, -3.4133, -3.4133, -3.4133, -3.4133, -5.8111, -5.8111, -5.8111, -5.8111, -5.8111, -5.8111, -5.8111, -5.8111, -5.8111, -5.8111, -5.8111, -5.8111, -5.8111, -5.8111, -5.8111, -5.8111, -5.8111, -5.8111], \"loglift\": [15.0, 14.0, 13.0, 12.0, 11.0, 10.0, 9.0, 8.0, 7.0, 6.0, 5.0, 4.0, 3.0, 2.0, 1.0, 1.2762, 1.2071, 1.2071, 1.2058, 1.0346, 1.0346, 1.0346, 1.0346, 1.0346, 1.0346, 1.0346, 1.0346, 1.0346, 1.0346, 1.0346, 0.9651, 0.9421, 0.6886, 0.4647, 0.2338, 0.8013, 0.0072, 0.5719, 1.1257, 1.1257, 1.1257, 1.1257, 1.1257, 1.1257, 1.1257, 1.1257, 1.1257, 1.1257, 1.1257, 1.1257, 1.1257, 1.1257, 1.1257, 0.9276, 0.9758, 0.6942, 0.7505, 0.3061, 0.3494, 0.8563, 0.8886, 1.5536, 1.5536, 1.5536, 1.5536, 1.5536, 1.5536, 1.3651, 1.3651, 1.3651, 1.3651, 1.3651, 1.3651, 1.3651, 1.3651, 1.3651, 1.2412, 1.1477, 0.9564, 0.885, 0.3037, 0.275, 0.8787, 1.9365, 1.6456, 1.6456, 1.6456, 1.6456, 1.6456, 1.6456, 1.6456, 1.6456, 1.6456, 1.6456, 1.6456, 1.6456, 1.6456, 1.6456, 1.3609, 1.2249, 1.1237, 1.1217, 1.2406, 0.7796, 2.0774, 1.8547, 1.8547, 1.8547, 1.8547, 1.8547, 1.8547, 1.8547, 1.8547, 1.8547, 1.8547, 1.8547, 1.8547, 1.8547, 1.8547, 0.8736, 1.3224, 1.8547, 1.3204, 1.3941, 2.5701, 2.2944, 2.2944, 2.2944, 2.2944, 2.2944, 2.2944, 2.2944, 2.2944, 2.2944, 2.2944, 2.2944, 1.97, 1.6934, 1.2498, 0.9302, 2.3641, 2.3641, 2.3641, 2.3641, 2.3641, 2.3641, 2.3641, 2.3641, 2.3641, 2.1867, 2.1634, 1.8749, 1.8717, 1.7521, 0.2061, -0.628, 2.4962, 2.4962, 2.4962, 2.4962, 2.4962, 2.4962, 2.4962, 2.4962, 1.8561, 1.8417, 1.8415, 1.4406, 1.2695, 0.2777, 0.2777, -1.7701, -1.1289, 2.6344, 2.6344, 2.6344, 2.6344, 2.6344, 2.6344, 1.9501, 1.4442, 1.3461, 1.0861, 0.3549, 0.3549, 0.3549, 0.3549, 0.1755, -0.4792, -1.6929, -1.2385, -0.28, -0.8801, 2.8659, 2.8659, 2.8659, 2.8659, 2.4253, 1.4638, 0.3496, 0.3496, 0.3496, 0.3496, 0.3496, 0.3496, 0.2886, 0.2886, 0.2886, -0.3661, -1.1254, -0.767, -1.348, -0.8406, -0.1669, -1.5798, -0.4846, -0.8489]}, \"token.table\": {\"Topic\": [2, 3, 4, 4, 1, 3, 2, 6, 4, 4, 2, 3, 1, 2, 1, 2, 1, 2, 5, 2, 3, 4, 2, 7, 5, 1, 4, 3, 3, 4, 4, 4, 5, 1, 2, 5, 1, 1, 2, 4, 1, 5, 5, 4, 4, 3, 5, 1, 2, 5, 3, 5, 2, 1, 1, 3, 2, 3, 2, 1, 2, 5, 3, 2, 7, 4, 1, 2, 3, 4, 3, 1, 1, 1, 2, 3, 1, 2, 1, 4, 1, 3, 2, 2, 3, 3, 3, 3, 2, 1, 5, 1, 4, 5, 5, 4, 2, 2, 4, 2, 2, 5, 1, 4, 1, 6, 2, 5, 5, 3, 5, 1, 3, 4, 5, 2, 4, 5, 4, 5, 1, 5, 1, 1, 1, 2, 3, 1, 2, 3, 5, 4, 3, 5, 1, 2, 2, 1, 2], \"Freq\": [0.35792386353152367, 0.35792386353152367, 0.35792386353152367, 0.9096527695258491, 0.8012547528299556, 0.5395762018288142, 0.4249684380924842, 0.4249684380924842, 0.9096525719188908, 0.9096526020875819, 0.524543682150484, 0.524543682150484, 0.47538804893321757, 0.47538804893321757, 0.8012546996268206, 0.8161563642706402, 0.6346594528123202, 0.8161563192011536, 0.9616692484704041, 0.35958253160141, 0.35958253160141, 0.909652570033472, 0.5042590178959111, 0.5042590178959111, 0.7048294624790581, 0.7652586113834035, 0.3826293056917017, 0.5395762851872504, 0.8531484223351632, 0.9096527717566808, 0.90965257415625, 0.6067170768433836, 0.6067170768433836, 0.37702844281118303, 0.37702844281118303, 0.18851422140559151, 0.997436744798472, 0.3126143371649043, 0.3126143371649043, 0.3126143371649043, 0.783075366357167, 0.3915376831785835, 0.961669195577944, 0.9096525676110903, 0.9096526020875819, 0.853148384191291, 0.9616692462202715, 0.6345461436992658, 0.5637655056943609, 0.5637655056943609, 0.8531483964573069, 0.9616692508794968, 0.8161562823258781, 0.6547955597839135, 0.8012551279630761, 0.5395762606343141, 0.643855443012496, 0.853148390015279, 0.8161562804923269, 0.8012550851748609, 0.5636507976928904, 0.5636507976928904, 0.5395762628409294, 0.7359933529756272, 0.3679966764878136, 0.909652669443026, 0.5044562319201654, 0.5044562319201654, 0.8531484234298938, 0.9096525207758598, 0.8531484223351632, 0.8012547442080776, 0.8012547102288144, 0.27596742315801753, 0.27596742315801753, 0.27596742315801753, 0.9976814208753839, 0.8161562822933995, 0.538677420839833, 0.538677420839833, 0.5939159036360583, 0.29695795181802914, 0.6233714703355662, 0.8161563284525464, 0.5395762004127372, 0.8531484223351632, 0.3948071067135434, 0.5395762643436989, 0.6152253647927652, 0.8012547033428418, 0.9616692484704041, 0.35812328117004305, 0.35812328117004305, 0.9616692637462985, 0.9616692484704041, 0.8635434920480525, 0.8161563274307141, 0.8161563286996815, 0.9096527208804834, 0.81615628716706, 0.8161563676265401, 0.9616691469742645, 0.5387663322178196, 0.5387663322178196, 0.9974368204358459, 0.7744131481734033, 0.8161563276424957, 0.9616691913346617, 0.9616692537754464, 0.8531483995378654, 0.9616692484704041, 0.28681052260570633, 0.28681052260570633, 0.28681052260570633, 0.28681052260570633, 0.8161563284525464, 0.9096526020875819, 0.9616692484704041, 0.9096526617529606, 0.9616692484704041, 0.801254703795594, 0.9616692484704041, 0.8012551291182161, 0.8012547082547175, 0.3754908648716944, 0.3754908648716944, 0.3754908648716944, 0.29436944044484387, 0.5887388808896877, 0.29436944044484387, 0.9616692484704041, 0.9096525725618956, 0.8531483889530258, 0.6294218608630594, 0.7240515819989677, 0.8161563676265401, 0.8161563676265401, 0.8012547038417311, 0.8161563722468207], \"Term\": [\"ability\", \"ability\", \"ability\", \"absent\", \"absolute\", \"accident\", \"ai\", \"ai\", \"anomalous\", \"appearance\", \"applied\", \"applied\", \"artificial_intelligence\", \"artificial_intelligence\", \"assurance\", \"automating\", \"available\", \"away\", \"basic\", \"behaviour\", \"behaviour\", \"behavioura\", \"burrow\", \"burrow\", \"carry\", \"case\", \"case\", \"caused\", \"characteristic\", \"circumstance\", \"collected\", \"common\", \"common\", \"computer\", \"computer\", \"computer\", \"conclusion\", \"data\", \"data\", \"data\", \"deductive\", \"deductive\", \"demonstrated\", \"describe\", \"developed\", \"developing\", \"development\", \"difference\", \"digital\", \"digital\", \"discover\", \"discovering\", \"displaced\", \"diverse\", \"draw\", \"drawing\", \"emerging\", \"endowed\", \"entrance\", \"especially\", \"example\", \"example\", \"failure\", \"food\", \"food\", \"force\", \"form\", \"form\", \"frequently\", \"future\", \"generalize\", \"giving\", \"guarantee\", \"human\", \"human\", \"human\", \"identify\", \"inch\", \"inductive\", \"inductive\", \"inference\", \"inference\", \"inside\", \"instinctual\", \"instrument\", \"intellectual\", \"intelligence\", \"involves\", \"learning\", \"lends\", \"logic\", \"machine_learning\", \"machine_learning\", \"mathematical\", \"mathematics\", \"model\", \"moved\", \"nature\", \"new\", \"often\", \"optimizing\", \"playing\", \"predict\", \"predict\", \"premise\", \"problem\", \"procedure\", \"proficiency\", \"programmed\", \"project\", \"proof\", \"reasoning\", \"reasoning\", \"reasoning\", \"reasoning\", \"repeat\", \"revised\", \"rule\", \"science\", \"set\", \"significant\", \"structure\", \"success\", \"support\", \"system\", \"system\", \"system\", \"task\", \"task\", \"task\", \"tasksa\", \"tentative\", \"term\", \"theorem\", \"truth\", \"value\", \"waspa\", \"whereas\", \"whole\"]}, \"R\": 15, \"lambda.step\": 0.01, \"plot.opts\": {\"xlab\": \"PC1\", \"ylab\": \"PC2\"}, \"topic.order\": [2, 6, 8, 1, 9, 5, 3, 7, 4, 10]};\n",
       "\n",
       "function LDAvis_load_lib(url, callback){\n",
       "  var s = document.createElement('script');\n",
       "  s.src = url;\n",
       "  s.async = true;\n",
       "  s.onreadystatechange = s.onload = callback;\n",
       "  s.onerror = function(){console.warn(\"failed to load library \" + url);};\n",
       "  document.getElementsByTagName(\"head\")[0].appendChild(s);\n",
       "}\n",
       "\n",
       "if(typeof(LDAvis) !== \"undefined\"){\n",
       "   // already loaded: just create the visualization\n",
       "   !function(LDAvis){\n",
       "       new LDAvis(\"#\" + \"ldavis_el1862023540005286564595266366\", ldavis_el1862023540005286564595266366_data);\n",
       "   }(LDAvis);\n",
       "}else if(typeof define === \"function\" && define.amd){\n",
       "   // require.js is available: use it to load d3/LDAvis\n",
       "   require.config({paths: {d3: \"https://d3js.org/d3.v5\"}});\n",
       "   require([\"d3\"], function(d3){\n",
       "      window.d3 = d3;\n",
       "      LDAvis_load_lib(\"https://cdn.jsdelivr.net/gh/bmabey/pyLDAvis@3.3.1/pyLDAvis/js/ldavis.v3.0.0.js\", function(){\n",
       "        new LDAvis(\"#\" + \"ldavis_el1862023540005286564595266366\", ldavis_el1862023540005286564595266366_data);\n",
       "      });\n",
       "    });\n",
       "}else{\n",
       "    // require.js not available: dynamically load d3 & LDAvis\n",
       "    LDAvis_load_lib(\"https://d3js.org/d3.v5.js\", function(){\n",
       "         LDAvis_load_lib(\"https://cdn.jsdelivr.net/gh/bmabey/pyLDAvis@3.3.1/pyLDAvis/js/ldavis.v3.0.0.js\", function(){\n",
       "                 new LDAvis(\"#\" + \"ldavis_el1862023540005286564595266366\", ldavis_el1862023540005286564595266366_data);\n",
       "            })\n",
       "         });\n",
       "}\n",
       "</script>"
      ],
      "text/plain": [
       "PreparedData(topic_coordinates=              x         y  topics  cluster       Freq\n",
       "topic                                                \n",
       "1     -0.155419 -0.138346       1        1  23.713150\n",
       "5     -0.010160  0.201496       2        1  21.386188\n",
       "7     -0.179522  0.097596       3        1  16.323699\n",
       "0      0.071113 -0.184353       4        1  11.741826\n",
       "8      0.185591 -0.021041       5        1   9.087270\n",
       "4      0.089986  0.016687       6        1   4.980206\n",
       "2      0.053001  0.092713       7        1   4.505594\n",
       "6     -0.004381 -0.071020       8        1   3.629248\n",
       "3     -0.052305  0.002099       9        1   2.863015\n",
       "9      0.002096  0.004170      10        1   1.769804, topic_info=             Term      Freq     Total Category  logprob  loglift\n",
       "107          food  2.000000  2.000000  Default  15.0000  15.0000\n",
       "85      behaviour  2.000000  2.000000  Default  14.0000  14.0000\n",
       "1              ai  2.000000  2.000000  Default  13.0000  13.0000\n",
       "90   intelligence  2.000000  2.000000  Default  12.0000  12.0000\n",
       "100        burrow  1.000000  1.000000  Default  11.0000  11.0000\n",
       "..            ...       ...       ...      ...      ...      ...\n",
       "90   intelligence  0.019341  2.532882  Topic10  -5.8111  -0.8406\n",
       "149       problem  0.019341  1.291300  Topic10  -5.8111  -0.1669\n",
       "6        computer  0.019341  5.304640  Topic10  -5.8111  -1.5798\n",
       "37        example  0.019341  1.774148  Topic10  -5.8111  -0.4846\n",
       "172     deductive  0.019341  2.554033  Topic10  -5.8111  -0.8489\n",
       "\n",
       "[217 rows x 6 columns], token_table=      Topic      Freq      Term\n",
       "term                           \n",
       "0         2  0.357924   ability\n",
       "0         3  0.357924   ability\n",
       "0         4  0.357924   ability\n",
       "127       4  0.909653    absent\n",
       "169       1  0.801255  absolute\n",
       "...     ...       ...       ...\n",
       "180       1  0.724052     truth\n",
       "232       2  0.816156     value\n",
       "125       2  0.816156     waspa\n",
       "181       1  0.801255   whereas\n",
       "126       2  0.816156     whole\n",
       "\n",
       "[139 rows x 3 columns], R=15, lambda_step=0.01, plot_opts={'xlab': 'PC1', 'ylab': 'PC2'}, topic_order=[2, 6, 8, 1, 9, 5, 3, 7, 4, 10])"
      ]
     },
     "execution_count": 111,
     "metadata": {},
     "output_type": "execute_result"
    }
   ],
   "source": [
    "pyLDAvis.enable_notebook()\n",
    "vis = gensimvis.prepare(lda_model, corpus, id2word, mds='mmds', R=15)\n",
    "vis"
   ]
  },
  {
   "cell_type": "markdown",
   "id": "dbb467ec",
   "metadata": {},
   "source": [
    "## Find which sentence belong to which cluster"
   ]
  },
  {
   "cell_type": "code",
   "execution_count": 112,
   "id": "edf7399d",
   "metadata": {},
   "outputs": [],
   "source": [
    "lda_corpus = lda_model[corpus]"
   ]
  },
  {
   "cell_type": "code",
   "execution_count": 113,
   "id": "7d366b2c",
   "metadata": {
    "scrolled": true
   },
   "outputs": [
    {
     "data": {
      "text/plain": [
       "26"
      ]
     },
     "execution_count": 113,
     "metadata": {},
     "output_type": "execute_result"
    }
   ],
   "source": [
    "cluster_index_list = [doc for doc in lda_corpus]\n",
    "len(cluster_index_list)"
   ]
  },
  {
   "cell_type": "code",
   "execution_count": 114,
   "id": "18d6d5e6",
   "metadata": {},
   "outputs": [],
   "source": [
    "# scores = list(chain(*[[score for topic_id,score in topic] \\ for topic in [doc for doc in lda_corpus]]))\n",
    "# threshold = sum(scores)/len(scores)\n",
    "# print(threshold)"
   ]
  },
  {
   "cell_type": "code",
   "execution_count": 115,
   "id": "fc2ac55a",
   "metadata": {},
   "outputs": [
    {
     "data": {
      "text/plain": [
       "{0: 'model',\n",
       " 1: 'truth',\n",
       " 2: 'burrow',\n",
       " 3: 'intelligence',\n",
       " 4: 'ai',\n",
       " 5: 'artificial_intelligence',\n",
       " 6: 'regardless',\n",
       " 7: 'human',\n",
       " 8: 'computer',\n",
       " 9: 'ichneumoneus'}"
      ]
     },
     "execution_count": 115,
     "metadata": {},
     "output_type": "execute_result"
    }
   ],
   "source": [
    "cluster_idx = lda_model.show_topics()\n",
    "topics = {}\n",
    "present_topics = []\n",
    "for term in cluster_idx:\n",
    "    terms = term[1].split('+')\n",
    "    idx = 0\n",
    "    element = terms[idx].split('*')[1]\n",
    "    element = element.strip()[1:-1]\n",
    "    while(element in present_topics):\n",
    "        idx += 1\n",
    "        element = terms[idx].split('*')[1]\n",
    "        element = element.strip()[1:-1]\n",
    "    present_topics.append(element)\n",
    "    topics[term[0]] = element\n",
    "    \n",
    "topics"
   ]
  },
  {
   "cell_type": "code",
   "execution_count": 116,
   "id": "0b3f2023",
   "metadata": {
    "scrolled": true
   },
   "outputs": [
    {
     "data": {
      "text/plain": [
       "'artificial intelligence (AI), the ability of a digital computer or computer-controlled robot to perform tasks commonly associated with intelligent beings.'"
      ]
     },
     "execution_count": 116,
     "metadata": {},
     "output_type": "execute_result"
    }
   ],
   "source": [
    "sentences[0]"
   ]
  },
  {
   "cell_type": "code",
   "execution_count": 117,
   "id": "a8fc0f3f",
   "metadata": {},
   "outputs": [],
   "source": [
    "clustered_sentences = {}\n",
    "for idx in range(0, len(cluster_index_list)):\n",
    "    indexes = cluster_index_list[idx]\n",
    "    if(len(indexes) == 1):\n",
    "        clustered_sentences[sentences[idx]] = topics[indexes[0][0]]\n",
    "    else:\n",
    "        max_prob = 0\n",
    "        topic = ''\n",
    "        for index in indexes:\n",
    "            prob = index[1]\n",
    "            if(prob > max_prob):\n",
    "                max_prob = prob\n",
    "                topic = topics[index[0]]\n",
    "        clustered_sentences[sentences[idx]] = topic"
   ]
  },
  {
   "cell_type": "code",
   "execution_count": 118,
   "id": "27960139",
   "metadata": {
    "scrolled": true
   },
   "outputs": [
    {
     "data": {
      "text/plain": [
       "{'artificial intelligence (AI), the ability of a digital computer or computer-controlled robot to perform tasks commonly associated with intelligent beings.': 'artificial_intelligence',\n",
       " 'The term is frequently applied to the project of developing systems endowed with the intellectual processes characteristic of humans, such as the ability to reason, discover meaning, generalize, or learn from past experience.': 'human',\n",
       " 'Since the development of the digital computer in the 1940s, it has been demonstrated that computers can be programmed to carry out very complex tasksâ€”as, for example, discovering proofs for mathematical theorems or playing chessâ€”with great proficiency.': 'computer',\n",
       " 'Still, despite continuing advances in computer processing speed and memory capacity, there are as yet no programs that can match human flexibility over wider domains or in tasks requiring much everyday knowledge.': 'artificial_intelligence',\n",
       " 'On the other hand, some programs have attained the performance levels of human experts and professionals in performing certain specific tasks, so that artificial intelligence in this limited sense is found in applications as diverse as medical diagnosis, computer search engines, and voice or handwriting recognition.': 'truth',\n",
       " 'All but the simplest human behaviour is ascribed to intelligence, while even the most complicated insect behaviour is never taken as an indication of intelligence.': 'human',\n",
       " 'What is the difference?': 'regardless',\n",
       " 'Consider the behaviour of the digger wasp, Sphex ichneumoneus.': 'ichneumoneus',\n",
       " 'When the female wasp returns to her burrow with food, she first deposits it on the threshold, checks for intruders inside her burrow, and only then, if the coast is clear, carries her food inside.': 'burrow',\n",
       " 'The real nature of the waspâ€™s instinctual behaviour is revealed if the food is moved a few inches away from the entrance to her burrow while she is inside: on emerging, she will repeat the whole procedure as often as the food is displaced.': 'artificial_intelligence',\n",
       " 'Intelligenceâ€”conspicuously absent in the case of Sphexâ€”must include the ability to adapt to new circumstances.': 'model',\n",
       " 'Psychologists generally do not characterize human intelligence by just one trait but by the combination of many diverse abilities.': 'intelligence',\n",
       " 'Research in AI has focused chiefly on the following components of intelligence: learning, reasoning, problem solving, perception, and using language.': 'ai',\n",
       " 'There are a number of different forms of learning as applied to artificial intelligence.': 'artificial_intelligence',\n",
       " 'An example of the former is, â€œFred must be in either the museum or the cafÃ©.': 'artificial_intelligence',\n",
       " 'He is not in the cafÃ©; therefore he is in the museum, and of the latter, Previous accidents of this sort were caused by instrument failure; therefore this accident was caused by instrument failure.': 'human',\n",
       " 'The most significant difference between these forms of reasoning is that in the deductive case the truth of the premises guarantees the truth of the conclusion, whereas in the inductive case the truth of the premise lends support to the conclusion without giving absolute assurance.': 'truth',\n",
       " 'Inductive reasoning is common in science, where data are collected and tentative models are developed to describe and predict future behaviourâ€”until the appearance of anomalous data forces the model to be revised.': 'model',\n",
       " 'Deductive reasoning is common in mathematics and logic, where elaborate structures of irrefutable theorems are built up from a small set of basic axioms and rules.': 'computer',\n",
       " 'There has been considerable success in programming computers to draw inferences, especially deductive inferences.': 'truth',\n",
       " 'However, true reasoning involves more than just drawing inferences; it involves drawing inferences relevant to the solution of the particular task or situation.': 'human',\n",
       " 'This is one of the hardest problems confronting AI.': 'ai',\n",
       " 'Artificial intelligence systems are critical for companies that wish to extract value from data by automating and optimizing processes or producing actionable insights.': 'artificial_intelligence',\n",
       " 'Artificial intelligence systems powered by machine learning enable companies to leverage large amounts of available data to uncover insights and patterns that would be impossible for any one person to identify, enabling them to deliver more targeted, personalized communications, predict critical care events, identify likely fraudulent transactions, and more.': 'truth',\n",
       " 'DataRobot was founded on the belief that emerging AI and machine learning technologies should be available to all enterprises, regardless of size and resources.': 'regardless',\n",
       " 'Thatâ€™s why we invented automated machine learning, which allows users of all skill levels to easily and rapidly build and deploy machine learning models.': 'model'}"
      ]
     },
     "execution_count": 118,
     "metadata": {},
     "output_type": "execute_result"
    }
   ],
   "source": [
    "clustered_sentences"
   ]
  },
  {
   "cell_type": "code",
   "execution_count": 119,
   "id": "0cdcdd00",
   "metadata": {},
   "outputs": [
    {
     "name": "stdout",
     "output_type": "stream",
     "text": [
      "{0: 'Intelligenceâ€”conspicuously absent in the case of Sphexâ€”must include the ability to adapt to new circumstances.Inductive reasoning is common in science, where data are collected and tentative models are developed to describe and predict future behaviourâ€”until the appearance of anomalous data forces the model to be revised.Thatâ€™s why we invented automated machine learning, which allows users of all skill levels to easily and rapidly build and deploy machine learning models.', 1: 'On the other hand, some programs have attained the performance levels of human experts and professionals in performing certain specific tasks, so that artificial intelligence in this limited sense is found in applications as diverse as medical diagnosis, computer search engines, and voice or handwriting recognition.The most significant difference between these forms of reasoning is that in the deductive case the truth of the premises guarantees the truth of the conclusion, whereas in the inductive case the truth of the premise lends support to the conclusion without giving absolute assurance.There has been considerable success in programming computers to draw inferences, especially deductive inferences.Artificial intelligence systems powered by machine learning enable companies to leverage large amounts of available data to uncover insights and patterns that would be impossible for any one person to identify, enabling them to deliver more targeted, personalized communications, predict critical care events, identify likely fraudulent transactions, and more.', 2: 'When the female wasp returns to her burrow with food, she first deposits it on the threshold, checks for intruders inside her burrow, and only then, if the coast is clear, carries her food inside.', 3: 'Psychologists generally do not characterize human intelligence by just one trait but by the combination of many diverse abilities.', 4: 'Research in AI has focused chiefly on the following components of intelligence: learning, reasoning, problem solving, perception, and using language.This is one of the hardest problems confronting AI.', 5: 'artificial intelligence (AI), the ability of a digital computer or computer-controlled robot to perform tasks commonly associated with intelligent beings.Still, despite continuing advances in computer processing speed and memory capacity, there are as yet no programs that can match human flexibility over wider domains or in tasks requiring much everyday knowledge.The real nature of the waspâ€™s instinctual behaviour is revealed if the food is moved a few inches away from the entrance to her burrow while she is inside: on emerging, she will repeat the whole procedure as often as the food is displaced.There are a number of different forms of learning as applied to artificial intelligence.An example of the former is, â€œFred must be in either the museum or the cafÃ©.Artificial intelligence systems are critical for companies that wish to extract value from data by automating and optimizing processes or producing actionable insights.', 6: 'What is the difference?DataRobot was founded on the belief that emerging AI and machine learning technologies should be available to all enterprises, regardless of size and resources.', 7: 'The term is frequently applied to the project of developing systems endowed with the intellectual processes characteristic of humans, such as the ability to reason, discover meaning, generalize, or learn from past experience.All but the simplest human behaviour is ascribed to intelligence, while even the most complicated insect behaviour is never taken as an indication of intelligence.He is not in the cafÃ©; therefore he is in the museum, and of the latter, Previous accidents of this sort were caused by instrument failure; therefore this accident was caused by instrument failure.However, true reasoning involves more than just drawing inferences; it involves drawing inferences relevant to the solution of the particular task or situation.', 8: 'Since the development of the digital computer in the 1940s, it has been demonstrated that computers can be programmed to carry out very complex tasksâ€”as, for example, discovering proofs for mathematical theorems or playing chessâ€”with great proficiency.Deductive reasoning is common in mathematics and logic, where elaborate structures of irrefutable theorems are built up from a small set of basic axioms and rules.', 9: 'Consider the behaviour of the digger wasp, Sphex ichneumoneus.'}\n"
     ]
    }
   ],
   "source": [
    "grouped_sentences = {k: '' for k in range(0, 10)}\n",
    "for idx in range(0, len(cluster_index_list)):\n",
    "    indexes = cluster_index_list[idx]\n",
    "    if(len(indexes) == 1):\n",
    "        grouped_sentences[indexes[0][0]] += sentences[idx]\n",
    "    else:\n",
    "        max_prob = 0\n",
    "        best_index = 0\n",
    "        for index in indexes:\n",
    "            prob = index[1]\n",
    "            if(prob > max_prob):\n",
    "                max_prob = prob\n",
    "                best_index = index[0]\n",
    "        grouped_sentences[best_index] += sentences[idx]\n",
    "\n",
    "print(grouped_sentences)"
   ]
  },
  {
   "cell_type": "code",
   "execution_count": 120,
   "id": "8ff87307",
   "metadata": {},
   "outputs": [
    {
     "name": "stdout",
     "output_type": "stream",
     "text": [
      "Intelligenceâ€”conspicuously absent in the case of Sphexâ€”must include the ability to adapt to new circumstances.Inductive reasoning is common in science, where data are collected and tentative models are developed to describe and predict future behaviourâ€”until the appearance of anomalous data forces the model to be revised.Thatâ€™s why we invented automated machine learning, which allows users of all skill levels to easily and rapidly build and deploy machine learning models.\n",
      "\n",
      "\n",
      "On the other hand, some programs have attained the performance levels of human experts and professionals in performing certain specific tasks, so that artificial intelligence in this limited sense is found in applications as diverse as medical diagnosis, computer search engines, and voice or handwriting recognition.The most significant difference between these forms of reasoning is that in the deductive case the truth of the premises guarantees the truth of the conclusion, whereas in the inductive case the truth of the premise lends support to the conclusion without giving absolute assurance.There has been considerable success in programming computers to draw inferences, especially deductive inferences.Artificial intelligence systems powered by machine learning enable companies to leverage large amounts of available data to uncover insights and patterns that would be impossible for any one person to identify, enabling them to deliver more targeted, personalized communications, predict critical care events, identify likely fraudulent transactions, and more.\n",
      "\n",
      "\n",
      "When the female wasp returns to her burrow with food, she first deposits it on the threshold, checks for intruders inside her burrow, and only then, if the coast is clear, carries her food inside.\n",
      "\n",
      "\n",
      "Psychologists generally do not characterize human intelligence by just one trait but by the combination of many diverse abilities.\n",
      "\n",
      "\n",
      "Research in AI has focused chiefly on the following components of intelligence: learning, reasoning, problem solving, perception, and using language.This is one of the hardest problems confronting AI.\n",
      "\n",
      "\n",
      "artificial intelligence (AI), the ability of a digital computer or computer-controlled robot to perform tasks commonly associated with intelligent beings.Still, despite continuing advances in computer processing speed and memory capacity, there are as yet no programs that can match human flexibility over wider domains or in tasks requiring much everyday knowledge.The real nature of the waspâ€™s instinctual behaviour is revealed if the food is moved a few inches away from the entrance to her burrow while she is inside: on emerging, she will repeat the whole procedure as often as the food is displaced.There are a number of different forms of learning as applied to artificial intelligence.An example of the former is, â€œFred must be in either the museum or the cafÃ©.Artificial intelligence systems are critical for companies that wish to extract value from data by automating and optimizing processes or producing actionable insights.\n",
      "\n",
      "\n",
      "What is the difference?DataRobot was founded on the belief that emerging AI and machine learning technologies should be available to all enterprises, regardless of size and resources.\n",
      "\n",
      "\n",
      "The term is frequently applied to the project of developing systems endowed with the intellectual processes characteristic of humans, such as the ability to reason, discover meaning, generalize, or learn from past experience.All but the simplest human behaviour is ascribed to intelligence, while even the most complicated insect behaviour is never taken as an indication of intelligence.He is not in the cafÃ©; therefore he is in the museum, and of the latter, Previous accidents of this sort were caused by instrument failure; therefore this accident was caused by instrument failure.However, true reasoning involves more than just drawing inferences; it involves drawing inferences relevant to the solution of the particular task or situation.\n",
      "\n",
      "\n",
      "Since the development of the digital computer in the 1940s, it has been demonstrated that computers can be programmed to carry out very complex tasksâ€”as, for example, discovering proofs for mathematical theorems or playing chessâ€”with great proficiency.Deductive reasoning is common in mathematics and logic, where elaborate structures of irrefutable theorems are built up from a small set of basic axioms and rules.\n",
      "\n",
      "\n",
      "Consider the behaviour of the digger wasp, Sphex ichneumoneus.\n",
      "\n",
      "\n"
     ]
    }
   ],
   "source": [
    "for i in grouped_sentences:\n",
    "    print(grouped_sentences[i])\n",
    "    print('\\n')"
   ]
  },
  {
   "cell_type": "markdown",
   "id": "ef46b7e0",
   "metadata": {},
   "source": [
    "# Testing the py file (Converted function file)"
   ]
  },
  {
   "cell_type": "code",
   "execution_count": 121,
   "id": "bd76fdec",
   "metadata": {},
   "outputs": [],
   "source": [
    "import ldamodule"
   ]
  },
  {
   "cell_type": "code",
   "execution_count": 122,
   "id": "f6a13553",
   "metadata": {},
   "outputs": [
    {
     "data": {
      "text/plain": [
       "'artificial intelligence (AI), the ability of a digital computer or computer-controlled robot to perform tasks commonly associated with intelligent beings. The term is frequently applied to the project of developing systems endowed with the intellectual processes characteristic of humans, such as the ability to reason, discover meaning, generalize, or learn from past experience. Since the development of the digital computer in the 1940s, it has been demonstrated that computers can be programmed to carry out very complex tasksâ€”as, for example, discovering proofs for mathematical theorems or playing chessâ€”with great proficiency. Still, despite continuing advances in computer processing speed and memory capacity, there are as yet no programs that can match human flexibility over wider domains or in tasks requiring much everyday knowledge. On the other hand, some programs have attained the performance levels of human experts and professionals in performing certain specific tasks, so that artificial intelligence in this limited sense is found in applications as diverse as medical diagnosis, computer search engines, and voice or handwriting recognition. All but the simplest human behaviour is ascribed to intelligence, while even the most complicated insect behaviour is never taken as an indication of intelligence. What is the difference? Consider the behaviour of the digger wasp, Sphex ichneumoneus. When the female wasp returns to her burrow with food, she first deposits it on the threshold, checks for intruders inside her burrow, and only then, if the coast is clear, carries her food inside. The real nature of the waspâ€™s instinctual behaviour is revealed if the food is moved a few inches away from the entrance to her burrow while she is inside: on emerging, she will repeat the whole procedure as often as the food is displaced. Intelligenceâ€”conspicuously absent in the case of Sphexâ€”must include the ability to adapt to new circumstances. Psychologists generally do not characterize human intelligence by just one trait but by the combination of many diverse abilities. Research in AI has focused chiefly on the following components of intelligence: learning, reasoning, problem solving, perception, and using language. There are a number of different forms of learning as applied to artificial intelligence. An example of the former is, â€œFred must be in either the museum or the cafÃ©. He is not in the cafÃ©; therefore he is in the museum, and of the latter, Previous accidents of this sort were caused by instrument failure; therefore this accident was caused by instrument failure. The most significant difference between these forms of reasoning is that in the deductive case the truth of the premises guarantees the truth of the conclusion, whereas in the inductive case the truth of the premise lends support to the conclusion without giving absolute assurance. Inductive reasoning is common in science, where data are collected and tentative models are developed to describe and predict future behaviourâ€”until the appearance of anomalous data forces the model to be revised. Deductive reasoning is common in mathematics and logic, where elaborate structures of irrefutable theorems are built up from a small set of basic axioms and rules. There has been considerable success in programming computers to draw inferences, especially deductive inferences. However, true reasoning involves more than just drawing inferences; it involves drawing inferences relevant to the solution of the particular task or situation. This is one of the hardest problems confronting AI. Artificial intelligence systems are critical for companies that wish to extract value from data by automating and optimizing processes or producing actionable insights. Artificial intelligence systems powered by machine learning enable companies to leverage large amounts of available data to uncover insights and patterns that would be impossible for any one person to identify, enabling them to deliver more targeted, personalized communications, predict critical care events, identify likely fraudulent transactions, and more. DataRobot was founded on the belief that emerging AI and machine learning technologies should be available to all enterprises, regardless of size and resources. Thatâ€™s why we invented automated machine learning, which allows users of all skill levels to easily and rapidly build and deploy machine learning models.\\n'"
      ]
     },
     "execution_count": 122,
     "metadata": {},
     "output_type": "execute_result"
    }
   ],
   "source": [
    "data[0]"
   ]
  },
  {
   "cell_type": "code",
   "execution_count": 123,
   "id": "164c37cb",
   "metadata": {},
   "outputs": [],
   "source": [
    "grouped_text = ldamodule.create_topics(data[0], 3, 10)"
   ]
  },
  {
   "cell_type": "code",
   "execution_count": 124,
   "id": "06341dae",
   "metadata": {},
   "outputs": [
    {
     "data": {
      "text/plain": [
       "[{0: 'He is not in the cafÃ©; therefore he is in the museum, and of the latter, Previous accidents of this sort were caused by instrument failure; therefore this accident was caused by instrument failure.The most significant difference between these forms of reasoning is that in the deductive case the truth of the premises guarantees the truth of the conclusion, whereas in the inductive case the truth of the premise lends support to the conclusion without giving absolute assurance.Inductive reasoning is common in science, where data are collected and tentative models are developed to describe and predict future behaviourâ€”until the appearance of anomalous data forces the model to be revised.',\n",
       "  1: 'Deductive reasoning is common in mathematics and logic, where elaborate structures of irrefutable theorems are built up from a small set of basic axioms and rules.There has been considerable success in programming computers to draw inferences, especially deductive inferences.However, true reasoning involves more than just drawing inferences; it involves drawing inferences relevant to the solution of the particular task or situation.',\n",
       "  2: '',\n",
       "  3: 'artificial intelligence (AI), the ability of a digital computer or computer-controlled robot to perform tasks commonly associated with intelligent beings.The term is frequently applied to the project of developing systems endowed with the intellectual processes characteristic of humans, such as the ability to reason, discover meaning, generalize, or learn from past experience.Since the development of the digital computer in the 1940s, it has been demonstrated that computers can be programmed to carry out very complex tasksâ€”as, for example, discovering proofs for mathematical theorems or playing chessâ€”with great proficiency.Research in AI has focused chiefly on the following components of intelligence: learning, reasoning, problem solving, perception, and using language.There are a number of different forms of learning as applied to artificial intelligence.An example of the former is, â€œFred must be in either the museum or the cafÃ©.',\n",
       "  4: '',\n",
       "  5: 'The real nature of the waspâ€™s instinctual behaviour is revealed if the food is moved a few inches away from the entrance to her burrow while she is inside: on emerging, she will repeat the whole procedure as often as the food is displaced.Intelligenceâ€”conspicuously absent in the case of Sphexâ€”must include the ability to adapt to new circumstances.Psychologists generally do not characterize human intelligence by just one trait but by the combination of many diverse abilities.This is one of the hardest problems confronting AI.Artificial intelligence systems are critical for companies that wish to extract value from data by automating and optimizing processes or producing actionable insights.Artificial intelligence systems powered by machine learning enable companies to leverage large amounts of available data to uncover insights and patterns that would be impossible for any one person to identify, enabling them to deliver more targeted, personalized communications, predict critical care events, identify likely fraudulent transactions, and more.',\n",
       "  6: '',\n",
       "  7: 'What is the difference?Consider the behaviour of the digger wasp, Sphex ichneumoneus.When the female wasp returns to her burrow with food, she first deposits it on the threshold, checks for intruders inside her burrow, and only then, if the coast is clear, carries her food inside.',\n",
       "  8: 'Still, despite continuing advances in computer processing speed and memory capacity, there are as yet no programs that can match human flexibility over wider domains or in tasks requiring much everyday knowledge.On the other hand, some programs have attained the performance levels of human experts and professionals in performing certain specific tasks, so that artificial intelligence in this limited sense is found in applications as diverse as medical diagnosis, computer search engines, and voice or handwriting recognition.All but the simplest human behaviour is ascribed to intelligence, while even the most complicated insect behaviour is never taken as an indication of intelligence.',\n",
       "  9: 'DataRobot was founded on the belief that emerging AI and machine learning technologies should be available to all enterprises, regardless of size and resources.Thatâ€™s why we invented automated machine learning, which allows users of all skill levels to easily and rapidly build and deploy machine learning models.'},\n",
       " {0: 'truth',\n",
       "  1: 'inference',\n",
       "  2: 'human',\n",
       "  3: 'computer',\n",
       "  4: 'behaviour',\n",
       "  5: 'system',\n",
       "  6: 'involves',\n",
       "  7: 'food',\n",
       "  8: 'intelligence',\n",
       "  9: 'machine_learning'}]"
      ]
     },
     "execution_count": 124,
     "metadata": {},
     "output_type": "execute_result"
    }
   ],
   "source": [
    "grouped_text"
   ]
  },
  {
   "cell_type": "code",
   "execution_count": null,
   "id": "441be187",
   "metadata": {},
   "outputs": [],
   "source": []
  },
  {
   "cell_type": "code",
   "execution_count": null,
   "id": "080fad82",
   "metadata": {},
   "outputs": [],
   "source": []
  }
 ],
 "metadata": {
  "kernelspec": {
   "display_name": "Python 3 (ipykernel)",
   "language": "python",
   "name": "python3"
  },
  "language_info": {
   "codemirror_mode": {
    "name": "ipython",
    "version": 3
   },
   "file_extension": ".py",
   "mimetype": "text/x-python",
   "name": "python",
   "nbconvert_exporter": "python",
   "pygments_lexer": "ipython3",
   "version": "3.9.12"
  }
 },
 "nbformat": 4,
 "nbformat_minor": 5
}
