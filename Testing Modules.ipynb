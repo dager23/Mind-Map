{
 "cells": [
  {
   "cell_type": "code",
   "execution_count": 10,
   "id": "4cd81e09",
   "metadata": {},
   "outputs": [],
   "source": [
    "import mindmap as mm"
   ]
  },
  {
   "cell_type": "code",
   "execution_count": 11,
   "id": "f72df01e",
   "metadata": {},
   "outputs": [],
   "source": [
    "with open('./SampleData/sample_text2.txt', encoding=\"utf8\") as f:\n",
    "    input_text = f.readlines()\n",
    "    input_text = input_text[0]"
   ]
  },
  {
   "cell_type": "code",
   "execution_count": 12,
   "id": "04b266e6",
   "metadata": {
    "scrolled": true
   },
   "outputs": [
    {
     "data": {
      "text/plain": [
       "'The electric vehicle (EV) revolution is speeding up, but it can only go so far without the necessary infrastructure and technology. As thinking shifts from fossil fuels to all-electric, visions of a brighter, more optimistic world come into view. The UK government’s pledge to ban the sale of all new non-electric cars, including gasoline, diesel and hybrid vehicles from 2035, highlights the drive to end the nation’s contribution to Climate Change by 2050. If the 2035 target is to be met, we will all see evolutions in the transport and mobility routines that keep our lives moving. From using ultra-fast wireless charging to supporting the developing world by repurposing car batteries, WMG, at the University of Warwick, is delivering advances in electrification knowledge and technologies, which will enable the leap to an electric automotive future. So, for the now and the near future, what do we need to consider? Demand for EVs is surging in the UK and registrations of plug-in cars increased by more than 160,000 between 2013 and 2018. With the electrification industry estimated to be worth over £6bn (US$7.8bn) by 2025, the next decade presents a massive opportunity. However, EVs will remain on the outskirts of mainstream until consumers are offered something that matches the model of usability, convenience and affordability that conventional vehicles offer today according to Professor David Greenwood. He is driving forward the £2m Innovate UK-funded Multi optimal Solutions for Energy Storage Systems (MoSESS) project in a consortium that is led by McLaren Automotive and includes project partner A123 Systems to reduce the size, weight and emissions of current EVs. The vision is to improve all aspects of performance and reliability and unlock the possibility of producing a battery solution that matches the performance of conventional gasoline and diesel vehicles, meeting consumers’ expectations, helping drive the uptake of hybrid and electric transport and supporting the Government’s ‘Road to Zero’ strategy—aiming to make road transport emission-free by 2050. “The reason people don’t buy electric cars today is because they’re too expensive, there is widespread scepticism around the battery range and therefore pressing questions around the regularity and reliability of charge points. The current best-in-class technologies are able to meet the needs of a small percentage of users and the need to plan an efficient battery charging infrastructure is key,” explains Greenwood. Current technology results in large EV batteries with long charging times. Even best-in-class energy densities mean that the battery needs to be comparatively large to achieve the desired electric range capability. Because they are large, they are also heavy, which means the vehicle consumes more energy in a journey. Then, for safety reasons, currently affordable traction batteries need to have a high level of complexity. So all in all you have a heavy, inefficient, cumbersome part. “We aim to develop and integrate within a vehicle, a battery system based on a mixture of highly energy dense solid-state cells and high power density cells,” says Greenwood. “These new battery types are more efficient with better energy storage, a smaller package and the ability to fast charge. We want to deliver a solution with a simpler cooling system, a reduced dedicated crash structure for the battery, reduced charging time for up to 500km electric range, and a weight saving of up to 10% compared to existing solutions.”Although efficiency, convenience and reassurance are vital factors for consumers, cost also remains front of mind in the decision making process for prospective EV adopters. WMG’s involvement in the Nextrode project, funded by The Faraday Institution, is tackling this. The project explores ways to make electrodes for Li-Ion batteries. Using WMG’s state-of-the-art battery scale up facility and the forthcoming UKBIC facility, the project allows WMG to model and optimise ways of driving down cost of manufacture for electrodes, increasing their energy storage capacity and reducing the time it takes to get to market. The relationship between the charging infrastructure and the manufacture of the batteries is key, especially when considered in relation to consumers’ typical mobility behaviours and patterns. 98% of journeys are less than 50 miles, so carrying the load of a battery sized to deliver 300 miles on such short journeys somewhat counteracts the efforts to improve efficiency and usability for consumers. Considerations such as this show the importance of a robust battery charging infrastructure, and highlight that the technology has to respond to consumer lifestyles and patterns if it is to be successful on a mass scale. Professor Greenwood added: “With a reliable, accessible and ubiquitous fast charging network in place, passenger car batteries could shrink in size and cost to something which would deliver around 150 miles of real world range, halving the cost of the most expensive component in the vehicle.”.'"
      ]
     },
     "execution_count": 12,
     "metadata": {},
     "output_type": "execute_result"
    }
   ],
   "source": [
    "input_text"
   ]
  },
  {
   "cell_type": "code",
   "execution_count": 13,
   "id": "637a3e01",
   "metadata": {},
   "outputs": [
    {
     "data": {
      "text/plain": [
       "[[['energy storage capacity',\n",
       "   'art battery scale',\n",
       "   'project allows wmg',\n",
       "   'using wmg ’',\n",
       "   'project explores ways',\n",
       "   'forthcoming ukbic facility',\n",
       "   'wmg ’',\n",
       "   'nextrode project',\n",
       "   'model',\n",
       "   'manufacture',\n",
       "   'cost'],\n",
       "  ['would deliver around 150 miles',\n",
       "   'passenger car batteries could shrink',\n",
       "   'ubiquitous fast charging network',\n",
       "   'real world range',\n",
       "   'professor greenwood added',\n",
       "   'cost',\n",
       "   'size'],\n",
       "  ['optimistic world come',\n",
       "   'uk government ’',\n",
       "   'nation ’',\n",
       "   'thinking shifts',\n",
       "   'new non',\n",
       "   'necessary infrastructure',\n",
       "   'including gasoline',\n",
       "   'hybrid vehicles',\n",
       "   'technology'],\n",
       "  ['repurposing car batteries',\n",
       "   'fast wireless charging',\n",
       "   'electric automotive future',\n",
       "   'near future',\n",
       "   'supporting',\n",
       "   'need'],\n",
       "  [],\n",
       "  ['currently affordable traction batteries need',\n",
       "   'vehicle consumes',\n",
       "   'safety reasons',\n",
       "   'high level',\n",
       "   'cumbersome part',\n",
       "   'also heavy'],\n",
       "  ['high power density cells ,” says greenwood .“',\n",
       "   'existing solutions .” although efficiency',\n",
       "   'zero ’ strategy — aiming',\n",
       "   'includes project partner a123 systems',\n",
       "   'conventional vehicles offer today according',\n",
       "   'funded multi optimal solutions',\n",
       "   'cost also remains front',\n",
       "   'therefore pressing questions around',\n",
       "   'model',\n",
       "   'size',\n",
       "   'supporting',\n",
       "   'consumers',\n",
       "   'usability'],\n",
       "  [],\n",
       "  ['consumers ’ typical mobility behaviours',\n",
       "   'short journeys somewhat counteracts',\n",
       "   'robust battery charging infrastructure',\n",
       "   'deliver 300 miles',\n",
       "   'charging infrastructure',\n",
       "   'battery sized',\n",
       "   '50 miles',\n",
       "   'mass scale',\n",
       "   'manufacture',\n",
       "   'technology',\n",
       "   'consumers',\n",
       "   'usability'],\n",
       "  ['key ,” explains greenwood',\n",
       "   'desired electric range capability',\n",
       "   'class energy densities mean',\n",
       "   'efficient battery charging infrastructure',\n",
       "   'long charging times',\n",
       "   'large ev batteries',\n",
       "   'current technology results',\n",
       "   'need']],\n",
       " {0: 'wmg',\n",
       "  1: 'cost',\n",
       "  2: 'electric',\n",
       "  3: 'future',\n",
       "  4: 'reliability',\n",
       "  5: 'heavy',\n",
       "  6: 'evs',\n",
       "  7: 'project',\n",
       "  8: 'battery',\n",
       "  9: 'need'}]"
      ]
     },
     "execution_count": 13,
     "metadata": {},
     "output_type": "execute_result"
    }
   ],
   "source": [
    "mm.create_keywords_from_text(input_text, max_nodes=8)"
   ]
  },
  {
   "cell_type": "code",
   "execution_count": null,
   "id": "cb0c9ea8",
   "metadata": {},
   "outputs": [],
   "source": []
  }
 ],
 "metadata": {
  "kernelspec": {
   "display_name": "Python 3 (ipykernel)",
   "language": "python",
   "name": "python3"
  },
  "language_info": {
   "codemirror_mode": {
    "name": "ipython",
    "version": 3
   },
   "file_extension": ".py",
   "mimetype": "text/x-python",
   "name": "python",
   "nbconvert_exporter": "python",
   "pygments_lexer": "ipython3",
   "version": "3.9.12"
  }
 },
 "nbformat": 4,
 "nbformat_minor": 5
}
